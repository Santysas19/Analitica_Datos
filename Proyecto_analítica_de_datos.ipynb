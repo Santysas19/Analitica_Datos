{
  "nbformat": 4,
  "nbformat_minor": 0,
  "metadata": {
    "colab": {
      "name": "Proyecto analítica de datos.ipynb",
      "provenance": [],
      "collapsed_sections": [],
      "include_colab_link": true
    },
    "kernelspec": {
      "name": "python3",
      "display_name": "Python 3"
    },
    "language_info": {
      "name": "python"
    }
  },
  "cells": [
    {
      "cell_type": "markdown",
      "metadata": {
        "id": "view-in-github",
        "colab_type": "text"
      },
      "source": [
        "<a href=\"https://colab.research.google.com/github/Santysas19/Analitica_Datos/blob/main/Proyecto_anal%C3%ADtica_de_datos.ipynb\" target=\"_parent\"><img src=\"https://colab.research.google.com/assets/colab-badge.svg\" alt=\"Open In Colab\"/></a>"
      ]
    },
    {
      "cell_type": "markdown",
      "metadata": {
        "id": "8bXGwV5hmAVQ"
      },
      "source": [
        "# **Credit Card customers:**\n",
        "# Predict Churning customers"
      ]
    },
    {
      "cell_type": "markdown",
      "metadata": {
        "id": "yuilgu-lmKQD"
      },
      "source": [
        "**Problema general**: Un gerente del banco esta preocupado porque cada vez más clientes dejan sus servicios de tarjetas de crédito. Realmente agradecería si se pudiera predecir quién se va a retirar del servicio para que puedan acudir de manera proactiva al cliente para brindarles mejores servicios y cambiar las decisiones de los clientes en la dirección opuesta.\n",
        "\n",
        "Esta base de datos consta de 10,000 clientes que mencionan su edad, salario, estado civil, límite de tarjeta de crédito, categoría de tarjeta de crédito, etc. Hay 23 características o variables a analizar.\n",
        "\n",
        "\n",
        "**Objetivo**\n",
        "\n",
        "Generar un algoritmo capaz de predecir que clientes van retirar el servicio de su trajeta de credito en el banco. \n"
      ]
    },
    {
      "cell_type": "code",
      "metadata": {
        "id": "vf6hKtKtlgIF"
      },
      "source": [
        "import numpy as np \n",
        "import pandas as pd \n",
        "import matplotlib.pyplot as plt \n",
        "import seaborn as sns"
      ],
      "execution_count": null,
      "outputs": []
    },
    {
      "cell_type": "code",
      "metadata": {
        "colab": {
          "base_uri": "https://localhost:8080/",
          "height": 307
        },
        "id": "kiIOZchFlnKm",
        "outputId": "9441ac88-53d2-4335-dc09-5f1bb2d72f9d"
      },
      "source": [
        "df = pd.read_csv(\"/content/BankChurners.csv\")\n",
        "df.head()"
      ],
      "execution_count": null,
      "outputs": [
        {
          "output_type": "execute_result",
          "data": {
            "text/html": [
              "<div>\n",
              "<style scoped>\n",
              "    .dataframe tbody tr th:only-of-type {\n",
              "        vertical-align: middle;\n",
              "    }\n",
              "\n",
              "    .dataframe tbody tr th {\n",
              "        vertical-align: top;\n",
              "    }\n",
              "\n",
              "    .dataframe thead th {\n",
              "        text-align: right;\n",
              "    }\n",
              "</style>\n",
              "<table border=\"1\" class=\"dataframe\">\n",
              "  <thead>\n",
              "    <tr style=\"text-align: right;\">\n",
              "      <th></th>\n",
              "      <th>CLIENTNUM</th>\n",
              "      <th>Attrition_Flag</th>\n",
              "      <th>Customer_Age</th>\n",
              "      <th>Gender</th>\n",
              "      <th>Dependent_count</th>\n",
              "      <th>Education_Level</th>\n",
              "      <th>Marital_Status</th>\n",
              "      <th>Income_Category</th>\n",
              "      <th>Card_Category</th>\n",
              "      <th>Months_on_book</th>\n",
              "      <th>Total_Relationship_Count</th>\n",
              "      <th>Months_Inactive_12_mon</th>\n",
              "      <th>Contacts_Count_12_mon</th>\n",
              "      <th>Credit_Limit</th>\n",
              "      <th>Total_Revolving_Bal</th>\n",
              "      <th>Avg_Open_To_Buy</th>\n",
              "      <th>Total_Amt_Chng_Q4_Q1</th>\n",
              "      <th>Total_Trans_Amt</th>\n",
              "      <th>Total_Trans_Ct</th>\n",
              "      <th>Total_Ct_Chng_Q4_Q1</th>\n",
              "      <th>Avg_Utilization_Ratio</th>\n",
              "      <th>Naive_Bayes_Classifier_Attrition_Flag_Card_Category_Contacts_Count_12_mon_Dependent_count_Education_Level_Months_Inactive_12_mon_1</th>\n",
              "      <th>Naive_Bayes_Classifier_Attrition_Flag_Card_Category_Contacts_Count_12_mon_Dependent_count_Education_Level_Months_Inactive_12_mon_2</th>\n",
              "    </tr>\n",
              "  </thead>\n",
              "  <tbody>\n",
              "    <tr>\n",
              "      <th>0</th>\n",
              "      <td>768805383</td>\n",
              "      <td>Existing Customer</td>\n",
              "      <td>45</td>\n",
              "      <td>M</td>\n",
              "      <td>3</td>\n",
              "      <td>High School</td>\n",
              "      <td>Married</td>\n",
              "      <td>$60K - $80K</td>\n",
              "      <td>Blue</td>\n",
              "      <td>39</td>\n",
              "      <td>5</td>\n",
              "      <td>1</td>\n",
              "      <td>3</td>\n",
              "      <td>12691.0</td>\n",
              "      <td>777</td>\n",
              "      <td>11914.0</td>\n",
              "      <td>1.335</td>\n",
              "      <td>1144</td>\n",
              "      <td>42</td>\n",
              "      <td>1.625</td>\n",
              "      <td>0.061</td>\n",
              "      <td>0.000093</td>\n",
              "      <td>0.99991</td>\n",
              "    </tr>\n",
              "    <tr>\n",
              "      <th>1</th>\n",
              "      <td>818770008</td>\n",
              "      <td>Existing Customer</td>\n",
              "      <td>49</td>\n",
              "      <td>F</td>\n",
              "      <td>5</td>\n",
              "      <td>Graduate</td>\n",
              "      <td>Single</td>\n",
              "      <td>Less than $40K</td>\n",
              "      <td>Blue</td>\n",
              "      <td>44</td>\n",
              "      <td>6</td>\n",
              "      <td>1</td>\n",
              "      <td>2</td>\n",
              "      <td>8256.0</td>\n",
              "      <td>864</td>\n",
              "      <td>7392.0</td>\n",
              "      <td>1.541</td>\n",
              "      <td>1291</td>\n",
              "      <td>33</td>\n",
              "      <td>3.714</td>\n",
              "      <td>0.105</td>\n",
              "      <td>0.000057</td>\n",
              "      <td>0.99994</td>\n",
              "    </tr>\n",
              "    <tr>\n",
              "      <th>2</th>\n",
              "      <td>713982108</td>\n",
              "      <td>Existing Customer</td>\n",
              "      <td>51</td>\n",
              "      <td>M</td>\n",
              "      <td>3</td>\n",
              "      <td>Graduate</td>\n",
              "      <td>Married</td>\n",
              "      <td>$80K - $120K</td>\n",
              "      <td>Blue</td>\n",
              "      <td>36</td>\n",
              "      <td>4</td>\n",
              "      <td>1</td>\n",
              "      <td>0</td>\n",
              "      <td>3418.0</td>\n",
              "      <td>0</td>\n",
              "      <td>3418.0</td>\n",
              "      <td>2.594</td>\n",
              "      <td>1887</td>\n",
              "      <td>20</td>\n",
              "      <td>2.333</td>\n",
              "      <td>0.000</td>\n",
              "      <td>0.000021</td>\n",
              "      <td>0.99998</td>\n",
              "    </tr>\n",
              "    <tr>\n",
              "      <th>3</th>\n",
              "      <td>769911858</td>\n",
              "      <td>Existing Customer</td>\n",
              "      <td>40</td>\n",
              "      <td>F</td>\n",
              "      <td>4</td>\n",
              "      <td>High School</td>\n",
              "      <td>Unknown</td>\n",
              "      <td>Less than $40K</td>\n",
              "      <td>Blue</td>\n",
              "      <td>34</td>\n",
              "      <td>3</td>\n",
              "      <td>4</td>\n",
              "      <td>1</td>\n",
              "      <td>3313.0</td>\n",
              "      <td>2517</td>\n",
              "      <td>796.0</td>\n",
              "      <td>1.405</td>\n",
              "      <td>1171</td>\n",
              "      <td>20</td>\n",
              "      <td>2.333</td>\n",
              "      <td>0.760</td>\n",
              "      <td>0.000134</td>\n",
              "      <td>0.99987</td>\n",
              "    </tr>\n",
              "    <tr>\n",
              "      <th>4</th>\n",
              "      <td>709106358</td>\n",
              "      <td>Existing Customer</td>\n",
              "      <td>40</td>\n",
              "      <td>M</td>\n",
              "      <td>3</td>\n",
              "      <td>Uneducated</td>\n",
              "      <td>Married</td>\n",
              "      <td>$60K - $80K</td>\n",
              "      <td>Blue</td>\n",
              "      <td>21</td>\n",
              "      <td>5</td>\n",
              "      <td>1</td>\n",
              "      <td>0</td>\n",
              "      <td>4716.0</td>\n",
              "      <td>0</td>\n",
              "      <td>4716.0</td>\n",
              "      <td>2.175</td>\n",
              "      <td>816</td>\n",
              "      <td>28</td>\n",
              "      <td>2.500</td>\n",
              "      <td>0.000</td>\n",
              "      <td>0.000022</td>\n",
              "      <td>0.99998</td>\n",
              "    </tr>\n",
              "  </tbody>\n",
              "</table>\n",
              "</div>"
            ],
            "text/plain": [
              "   CLIENTNUM  ... Naive_Bayes_Classifier_Attrition_Flag_Card_Category_Contacts_Count_12_mon_Dependent_count_Education_Level_Months_Inactive_12_mon_2\n",
              "0  768805383  ...                                            0.99991                                                                                \n",
              "1  818770008  ...                                            0.99994                                                                                \n",
              "2  713982108  ...                                            0.99998                                                                                \n",
              "3  769911858  ...                                            0.99987                                                                                \n",
              "4  709106358  ...                                            0.99998                                                                                \n",
              "\n",
              "[5 rows x 23 columns]"
            ]
          },
          "metadata": {
            "tags": []
          },
          "execution_count": 8
        }
      ]
    },
    {
      "cell_type": "code",
      "metadata": {
        "colab": {
          "base_uri": "https://localhost:8080/"
        },
        "id": "Ft9eo8KklrJi",
        "outputId": "72e9e82d-30b1-48fa-b309-bf0982db6272"
      },
      "source": [
        "df.shape"
      ],
      "execution_count": null,
      "outputs": [
        {
          "output_type": "execute_result",
          "data": {
            "text/plain": [
              "(10127, 23)"
            ]
          },
          "metadata": {
            "tags": []
          },
          "execution_count": 9
        }
      ]
    },
    {
      "cell_type": "code",
      "metadata": {
        "colab": {
          "base_uri": "https://localhost:8080/"
        },
        "id": "Zh0RYLkIrNWM",
        "outputId": "667c9680-dc5d-4a2f-8ec9-5b4db784378a"
      },
      "source": [
        "!pip install unidecode"
      ],
      "execution_count": null,
      "outputs": [
        {
          "output_type": "stream",
          "text": [
            "Collecting unidecode\n",
            "  Downloading Unidecode-1.2.0-py2.py3-none-any.whl (241 kB)\n",
            "\u001b[?25l\r\u001b[K     |█▍                              | 10 kB 27.9 MB/s eta 0:00:01\r\u001b[K     |██▊                             | 20 kB 30.4 MB/s eta 0:00:01\r\u001b[K     |████                            | 30 kB 12.2 MB/s eta 0:00:01\r\u001b[K     |█████▍                          | 40 kB 9.2 MB/s eta 0:00:01\r\u001b[K     |██████▉                         | 51 kB 5.0 MB/s eta 0:00:01\r\u001b[K     |████████▏                       | 61 kB 5.3 MB/s eta 0:00:01\r\u001b[K     |█████████▌                      | 71 kB 5.8 MB/s eta 0:00:01\r\u001b[K     |██████████▉                     | 81 kB 6.5 MB/s eta 0:00:01\r\u001b[K     |████████████▏                   | 92 kB 6.7 MB/s eta 0:00:01\r\u001b[K     |█████████████▋                  | 102 kB 5.1 MB/s eta 0:00:01\r\u001b[K     |███████████████                 | 112 kB 5.1 MB/s eta 0:00:01\r\u001b[K     |████████████████▎               | 122 kB 5.1 MB/s eta 0:00:01\r\u001b[K     |█████████████████▋              | 133 kB 5.1 MB/s eta 0:00:01\r\u001b[K     |███████████████████             | 143 kB 5.1 MB/s eta 0:00:01\r\u001b[K     |████████████████████▍           | 153 kB 5.1 MB/s eta 0:00:01\r\u001b[K     |█████████████████████▊          | 163 kB 5.1 MB/s eta 0:00:01\r\u001b[K     |███████████████████████         | 174 kB 5.1 MB/s eta 0:00:01\r\u001b[K     |████████████████████████▍       | 184 kB 5.1 MB/s eta 0:00:01\r\u001b[K     |█████████████████████████▊      | 194 kB 5.1 MB/s eta 0:00:01\r\u001b[K     |███████████████████████████▏    | 204 kB 5.1 MB/s eta 0:00:01\r\u001b[K     |████████████████████████████▌   | 215 kB 5.1 MB/s eta 0:00:01\r\u001b[K     |█████████████████████████████▉  | 225 kB 5.1 MB/s eta 0:00:01\r\u001b[K     |███████████████████████████████▏| 235 kB 5.1 MB/s eta 0:00:01\r\u001b[K     |████████████████████████████████| 241 kB 5.1 MB/s \n",
            "\u001b[?25hInstalling collected packages: unidecode\n",
            "Successfully installed unidecode-1.2.0\n"
          ],
          "name": "stdout"
        }
      ]
    },
    {
      "cell_type": "code",
      "metadata": {
        "id": "15-JrFhVrdmk"
      },
      "source": [
        "from unidecode import unidecode"
      ],
      "execution_count": null,
      "outputs": []
    },
    {
      "cell_type": "code",
      "metadata": {
        "id": "-gsOjlo-lsqV"
      },
      "source": [
        "# Eliminar acentos en el nombre de las columnas\n",
        "df.columns = [unidecode(str(col)) for col in df.columns]\n",
        "\n",
        "# Reemplazar espacios por _\n",
        "df.columns = df.columns.str.replace(' ', '_')\n",
        "    \n",
        "# Strip\n",
        "df.columns = df.columns.str.strip()\n",
        "\n",
        "# Convierte todas las letras en minúsculas\n",
        "df.columns = df.columns.str.lower()\n",
        "\n",
        "# Reemplazar NaN, None\n",
        "df.replace('-', np.nan, inplace=True)\n",
        "\n",
        "# Set axis name\n",
        "df.rename_axis('id', inplace=True)\n"
      ],
      "execution_count": null,
      "outputs": []
    },
    {
      "cell_type": "code",
      "metadata": {
        "colab": {
          "base_uri": "https://localhost:8080/",
          "height": 635
        },
        "id": "ESw9ZX70rh8M",
        "outputId": "db195ee3-48d1-4f02-de37-36571860d52a"
      },
      "source": [
        "df"
      ],
      "execution_count": null,
      "outputs": [
        {
          "output_type": "execute_result",
          "data": {
            "text/html": [
              "<div>\n",
              "<style scoped>\n",
              "    .dataframe tbody tr th:only-of-type {\n",
              "        vertical-align: middle;\n",
              "    }\n",
              "\n",
              "    .dataframe tbody tr th {\n",
              "        vertical-align: top;\n",
              "    }\n",
              "\n",
              "    .dataframe thead th {\n",
              "        text-align: right;\n",
              "    }\n",
              "</style>\n",
              "<table border=\"1\" class=\"dataframe\">\n",
              "  <thead>\n",
              "    <tr style=\"text-align: right;\">\n",
              "      <th></th>\n",
              "      <th>clientnum</th>\n",
              "      <th>attrition_flag</th>\n",
              "      <th>customer_age</th>\n",
              "      <th>gender</th>\n",
              "      <th>dependent_count</th>\n",
              "      <th>education_level</th>\n",
              "      <th>marital_status</th>\n",
              "      <th>income_category</th>\n",
              "      <th>card_category</th>\n",
              "      <th>months_on_book</th>\n",
              "      <th>total_relationship_count</th>\n",
              "      <th>months_inactive_12_mon</th>\n",
              "      <th>contacts_count_12_mon</th>\n",
              "      <th>credit_limit</th>\n",
              "      <th>total_revolving_bal</th>\n",
              "      <th>avg_open_to_buy</th>\n",
              "      <th>total_amt_chng_q4_q1</th>\n",
              "      <th>total_trans_amt</th>\n",
              "      <th>total_trans_ct</th>\n",
              "      <th>total_ct_chng_q4_q1</th>\n",
              "      <th>avg_utilization_ratio</th>\n",
              "      <th>naive_bayes_classifier_attrition_flag_card_category_contacts_count_12_mon_dependent_count_education_level_months_inactive_12_mon_1</th>\n",
              "      <th>naive_bayes_classifier_attrition_flag_card_category_contacts_count_12_mon_dependent_count_education_level_months_inactive_12_mon_2</th>\n",
              "    </tr>\n",
              "    <tr>\n",
              "      <th>id</th>\n",
              "      <th></th>\n",
              "      <th></th>\n",
              "      <th></th>\n",
              "      <th></th>\n",
              "      <th></th>\n",
              "      <th></th>\n",
              "      <th></th>\n",
              "      <th></th>\n",
              "      <th></th>\n",
              "      <th></th>\n",
              "      <th></th>\n",
              "      <th></th>\n",
              "      <th></th>\n",
              "      <th></th>\n",
              "      <th></th>\n",
              "      <th></th>\n",
              "      <th></th>\n",
              "      <th></th>\n",
              "      <th></th>\n",
              "      <th></th>\n",
              "      <th></th>\n",
              "      <th></th>\n",
              "      <th></th>\n",
              "    </tr>\n",
              "  </thead>\n",
              "  <tbody>\n",
              "    <tr>\n",
              "      <th>0</th>\n",
              "      <td>768805383</td>\n",
              "      <td>Existing Customer</td>\n",
              "      <td>45</td>\n",
              "      <td>M</td>\n",
              "      <td>3</td>\n",
              "      <td>High School</td>\n",
              "      <td>Married</td>\n",
              "      <td>$60K - $80K</td>\n",
              "      <td>Blue</td>\n",
              "      <td>39</td>\n",
              "      <td>5</td>\n",
              "      <td>1</td>\n",
              "      <td>3</td>\n",
              "      <td>12691.0</td>\n",
              "      <td>777</td>\n",
              "      <td>11914.0</td>\n",
              "      <td>1.335</td>\n",
              "      <td>1144</td>\n",
              "      <td>42</td>\n",
              "      <td>1.625</td>\n",
              "      <td>0.061</td>\n",
              "      <td>0.000093</td>\n",
              "      <td>0.999910</td>\n",
              "    </tr>\n",
              "    <tr>\n",
              "      <th>1</th>\n",
              "      <td>818770008</td>\n",
              "      <td>Existing Customer</td>\n",
              "      <td>49</td>\n",
              "      <td>F</td>\n",
              "      <td>5</td>\n",
              "      <td>Graduate</td>\n",
              "      <td>Single</td>\n",
              "      <td>Less than $40K</td>\n",
              "      <td>Blue</td>\n",
              "      <td>44</td>\n",
              "      <td>6</td>\n",
              "      <td>1</td>\n",
              "      <td>2</td>\n",
              "      <td>8256.0</td>\n",
              "      <td>864</td>\n",
              "      <td>7392.0</td>\n",
              "      <td>1.541</td>\n",
              "      <td>1291</td>\n",
              "      <td>33</td>\n",
              "      <td>3.714</td>\n",
              "      <td>0.105</td>\n",
              "      <td>0.000057</td>\n",
              "      <td>0.999940</td>\n",
              "    </tr>\n",
              "    <tr>\n",
              "      <th>2</th>\n",
              "      <td>713982108</td>\n",
              "      <td>Existing Customer</td>\n",
              "      <td>51</td>\n",
              "      <td>M</td>\n",
              "      <td>3</td>\n",
              "      <td>Graduate</td>\n",
              "      <td>Married</td>\n",
              "      <td>$80K - $120K</td>\n",
              "      <td>Blue</td>\n",
              "      <td>36</td>\n",
              "      <td>4</td>\n",
              "      <td>1</td>\n",
              "      <td>0</td>\n",
              "      <td>3418.0</td>\n",
              "      <td>0</td>\n",
              "      <td>3418.0</td>\n",
              "      <td>2.594</td>\n",
              "      <td>1887</td>\n",
              "      <td>20</td>\n",
              "      <td>2.333</td>\n",
              "      <td>0.000</td>\n",
              "      <td>0.000021</td>\n",
              "      <td>0.999980</td>\n",
              "    </tr>\n",
              "    <tr>\n",
              "      <th>3</th>\n",
              "      <td>769911858</td>\n",
              "      <td>Existing Customer</td>\n",
              "      <td>40</td>\n",
              "      <td>F</td>\n",
              "      <td>4</td>\n",
              "      <td>High School</td>\n",
              "      <td>Unknown</td>\n",
              "      <td>Less than $40K</td>\n",
              "      <td>Blue</td>\n",
              "      <td>34</td>\n",
              "      <td>3</td>\n",
              "      <td>4</td>\n",
              "      <td>1</td>\n",
              "      <td>3313.0</td>\n",
              "      <td>2517</td>\n",
              "      <td>796.0</td>\n",
              "      <td>1.405</td>\n",
              "      <td>1171</td>\n",
              "      <td>20</td>\n",
              "      <td>2.333</td>\n",
              "      <td>0.760</td>\n",
              "      <td>0.000134</td>\n",
              "      <td>0.999870</td>\n",
              "    </tr>\n",
              "    <tr>\n",
              "      <th>4</th>\n",
              "      <td>709106358</td>\n",
              "      <td>Existing Customer</td>\n",
              "      <td>40</td>\n",
              "      <td>M</td>\n",
              "      <td>3</td>\n",
              "      <td>Uneducated</td>\n",
              "      <td>Married</td>\n",
              "      <td>$60K - $80K</td>\n",
              "      <td>Blue</td>\n",
              "      <td>21</td>\n",
              "      <td>5</td>\n",
              "      <td>1</td>\n",
              "      <td>0</td>\n",
              "      <td>4716.0</td>\n",
              "      <td>0</td>\n",
              "      <td>4716.0</td>\n",
              "      <td>2.175</td>\n",
              "      <td>816</td>\n",
              "      <td>28</td>\n",
              "      <td>2.500</td>\n",
              "      <td>0.000</td>\n",
              "      <td>0.000022</td>\n",
              "      <td>0.999980</td>\n",
              "    </tr>\n",
              "    <tr>\n",
              "      <th>...</th>\n",
              "      <td>...</td>\n",
              "      <td>...</td>\n",
              "      <td>...</td>\n",
              "      <td>...</td>\n",
              "      <td>...</td>\n",
              "      <td>...</td>\n",
              "      <td>...</td>\n",
              "      <td>...</td>\n",
              "      <td>...</td>\n",
              "      <td>...</td>\n",
              "      <td>...</td>\n",
              "      <td>...</td>\n",
              "      <td>...</td>\n",
              "      <td>...</td>\n",
              "      <td>...</td>\n",
              "      <td>...</td>\n",
              "      <td>...</td>\n",
              "      <td>...</td>\n",
              "      <td>...</td>\n",
              "      <td>...</td>\n",
              "      <td>...</td>\n",
              "      <td>...</td>\n",
              "      <td>...</td>\n",
              "    </tr>\n",
              "    <tr>\n",
              "      <th>10122</th>\n",
              "      <td>772366833</td>\n",
              "      <td>Existing Customer</td>\n",
              "      <td>50</td>\n",
              "      <td>M</td>\n",
              "      <td>2</td>\n",
              "      <td>Graduate</td>\n",
              "      <td>Single</td>\n",
              "      <td>$40K - $60K</td>\n",
              "      <td>Blue</td>\n",
              "      <td>40</td>\n",
              "      <td>3</td>\n",
              "      <td>2</td>\n",
              "      <td>3</td>\n",
              "      <td>4003.0</td>\n",
              "      <td>1851</td>\n",
              "      <td>2152.0</td>\n",
              "      <td>0.703</td>\n",
              "      <td>15476</td>\n",
              "      <td>117</td>\n",
              "      <td>0.857</td>\n",
              "      <td>0.462</td>\n",
              "      <td>0.000191</td>\n",
              "      <td>0.999810</td>\n",
              "    </tr>\n",
              "    <tr>\n",
              "      <th>10123</th>\n",
              "      <td>710638233</td>\n",
              "      <td>Attrited Customer</td>\n",
              "      <td>41</td>\n",
              "      <td>M</td>\n",
              "      <td>2</td>\n",
              "      <td>Unknown</td>\n",
              "      <td>Divorced</td>\n",
              "      <td>$40K - $60K</td>\n",
              "      <td>Blue</td>\n",
              "      <td>25</td>\n",
              "      <td>4</td>\n",
              "      <td>2</td>\n",
              "      <td>3</td>\n",
              "      <td>4277.0</td>\n",
              "      <td>2186</td>\n",
              "      <td>2091.0</td>\n",
              "      <td>0.804</td>\n",
              "      <td>8764</td>\n",
              "      <td>69</td>\n",
              "      <td>0.683</td>\n",
              "      <td>0.511</td>\n",
              "      <td>0.995270</td>\n",
              "      <td>0.004729</td>\n",
              "    </tr>\n",
              "    <tr>\n",
              "      <th>10124</th>\n",
              "      <td>716506083</td>\n",
              "      <td>Attrited Customer</td>\n",
              "      <td>44</td>\n",
              "      <td>F</td>\n",
              "      <td>1</td>\n",
              "      <td>High School</td>\n",
              "      <td>Married</td>\n",
              "      <td>Less than $40K</td>\n",
              "      <td>Blue</td>\n",
              "      <td>36</td>\n",
              "      <td>5</td>\n",
              "      <td>3</td>\n",
              "      <td>4</td>\n",
              "      <td>5409.0</td>\n",
              "      <td>0</td>\n",
              "      <td>5409.0</td>\n",
              "      <td>0.819</td>\n",
              "      <td>10291</td>\n",
              "      <td>60</td>\n",
              "      <td>0.818</td>\n",
              "      <td>0.000</td>\n",
              "      <td>0.997880</td>\n",
              "      <td>0.002118</td>\n",
              "    </tr>\n",
              "    <tr>\n",
              "      <th>10125</th>\n",
              "      <td>717406983</td>\n",
              "      <td>Attrited Customer</td>\n",
              "      <td>30</td>\n",
              "      <td>M</td>\n",
              "      <td>2</td>\n",
              "      <td>Graduate</td>\n",
              "      <td>Unknown</td>\n",
              "      <td>$40K - $60K</td>\n",
              "      <td>Blue</td>\n",
              "      <td>36</td>\n",
              "      <td>4</td>\n",
              "      <td>3</td>\n",
              "      <td>3</td>\n",
              "      <td>5281.0</td>\n",
              "      <td>0</td>\n",
              "      <td>5281.0</td>\n",
              "      <td>0.535</td>\n",
              "      <td>8395</td>\n",
              "      <td>62</td>\n",
              "      <td>0.722</td>\n",
              "      <td>0.000</td>\n",
              "      <td>0.996710</td>\n",
              "      <td>0.003294</td>\n",
              "    </tr>\n",
              "    <tr>\n",
              "      <th>10126</th>\n",
              "      <td>714337233</td>\n",
              "      <td>Attrited Customer</td>\n",
              "      <td>43</td>\n",
              "      <td>F</td>\n",
              "      <td>2</td>\n",
              "      <td>Graduate</td>\n",
              "      <td>Married</td>\n",
              "      <td>Less than $40K</td>\n",
              "      <td>Silver</td>\n",
              "      <td>25</td>\n",
              "      <td>6</td>\n",
              "      <td>2</td>\n",
              "      <td>4</td>\n",
              "      <td>10388.0</td>\n",
              "      <td>1961</td>\n",
              "      <td>8427.0</td>\n",
              "      <td>0.703</td>\n",
              "      <td>10294</td>\n",
              "      <td>61</td>\n",
              "      <td>0.649</td>\n",
              "      <td>0.189</td>\n",
              "      <td>0.996620</td>\n",
              "      <td>0.003377</td>\n",
              "    </tr>\n",
              "  </tbody>\n",
              "</table>\n",
              "<p>10127 rows × 23 columns</p>\n",
              "</div>"
            ],
            "text/plain": [
              "       clientnum  ... naive_bayes_classifier_attrition_flag_card_category_contacts_count_12_mon_dependent_count_education_level_months_inactive_12_mon_2\n",
              "id                ...                                                                                                                                   \n",
              "0      768805383  ...                                           0.999910                                                                                \n",
              "1      818770008  ...                                           0.999940                                                                                \n",
              "2      713982108  ...                                           0.999980                                                                                \n",
              "3      769911858  ...                                           0.999870                                                                                \n",
              "4      709106358  ...                                           0.999980                                                                                \n",
              "...          ...  ...                                                ...                                                                                \n",
              "10122  772366833  ...                                           0.999810                                                                                \n",
              "10123  710638233  ...                                           0.004729                                                                                \n",
              "10124  716506083  ...                                           0.002118                                                                                \n",
              "10125  717406983  ...                                           0.003294                                                                                \n",
              "10126  714337233  ...                                           0.003377                                                                                \n",
              "\n",
              "[10127 rows x 23 columns]"
            ]
          },
          "metadata": {
            "tags": []
          },
          "execution_count": 13
        }
      ]
    },
    {
      "cell_type": "code",
      "metadata": {
        "colab": {
          "base_uri": "https://localhost:8080/"
        },
        "id": "7TLlqpi5sCVK",
        "outputId": "879929bd-bebd-49ef-cc05-a46183c3c5e3"
      },
      "source": [
        "df.isna().sum()"
      ],
      "execution_count": null,
      "outputs": [
        {
          "output_type": "execute_result",
          "data": {
            "text/plain": [
              "clientnum                                                                                                                             0\n",
              "attrition_flag                                                                                                                        0\n",
              "customer_age                                                                                                                          0\n",
              "gender                                                                                                                                0\n",
              "dependent_count                                                                                                                       0\n",
              "education_level                                                                                                                       0\n",
              "marital_status                                                                                                                        0\n",
              "income_category                                                                                                                       0\n",
              "card_category                                                                                                                         0\n",
              "months_on_book                                                                                                                        0\n",
              "total_relationship_count                                                                                                              0\n",
              "months_inactive_12_mon                                                                                                                0\n",
              "contacts_count_12_mon                                                                                                                 0\n",
              "credit_limit                                                                                                                          0\n",
              "total_revolving_bal                                                                                                                   0\n",
              "avg_open_to_buy                                                                                                                       0\n",
              "total_amt_chng_q4_q1                                                                                                                  0\n",
              "total_trans_amt                                                                                                                       0\n",
              "total_trans_ct                                                                                                                        0\n",
              "total_ct_chng_q4_q1                                                                                                                   0\n",
              "avg_utilization_ratio                                                                                                                 0\n",
              "naive_bayes_classifier_attrition_flag_card_category_contacts_count_12_mon_dependent_count_education_level_months_inactive_12_mon_1    0\n",
              "naive_bayes_classifier_attrition_flag_card_category_contacts_count_12_mon_dependent_count_education_level_months_inactive_12_mon_2    0\n",
              "dtype: int64"
            ]
          },
          "metadata": {
            "tags": []
          },
          "execution_count": 14
        }
      ]
    },
    {
      "cell_type": "code",
      "metadata": {
        "colab": {
          "base_uri": "https://localhost:8080/"
        },
        "id": "pxtM-z32t3PM",
        "outputId": "31364016-e7c4-4cb8-dfe3-68e9a51244cb"
      },
      "source": [
        "df.columns"
      ],
      "execution_count": null,
      "outputs": [
        {
          "output_type": "execute_result",
          "data": {
            "text/plain": [
              "Index(['clientnum', 'attrition_flag', 'customer_age', 'gender',\n",
              "       'dependent_count', 'education_level', 'marital_status',\n",
              "       'income_category', 'card_category', 'months_on_book',\n",
              "       'total_relationship_count', 'months_inactive_12_mon',\n",
              "       'contacts_count_12_mon', 'credit_limit', 'total_revolving_bal',\n",
              "       'avg_open_to_buy', 'total_amt_chng_q4_q1', 'total_trans_amt',\n",
              "       'total_trans_ct', 'total_ct_chng_q4_q1', 'avg_utilization_ratio',\n",
              "       'naive_bayes_classifier_attrition_flag_card_category_contacts_count_12_mon_dependent_count_education_level_months_inactive_12_mon_1',\n",
              "       'naive_bayes_classifier_attrition_flag_card_category_contacts_count_12_mon_dependent_count_education_level_months_inactive_12_mon_2'],\n",
              "      dtype='object')"
            ]
          },
          "metadata": {
            "tags": []
          },
          "execution_count": 15
        }
      ]
    },
    {
      "cell_type": "code",
      "metadata": {
        "id": "mMCMo84XuosU"
      },
      "source": [
        "renaming={\n",
        "    'naive_bayes_classifier_attrition_flag_card_category_contacts_count_12_mon_dependent_count_education_level_months_inactive_12_mon_1':'naive_bayes_1',\n",
        "    'naive_bayes_classifier_attrition_flag_card_category_contacts_count_12_mon_dependent_count_education_level_months_inactive_12_mon_2':'naive_bayes_2'\n",
        "}\n",
        "df.rename(columns=renaming, inplace=True)\n"
      ],
      "execution_count": null,
      "outputs": []
    },
    {
      "cell_type": "code",
      "metadata": {
        "colab": {
          "base_uri": "https://localhost:8080/",
          "height": 635
        },
        "id": "lBJ0FTlgvTN_",
        "outputId": "0b2dde3e-9f51-457f-9d75-3fb38c7a0bd0"
      },
      "source": [
        "df"
      ],
      "execution_count": null,
      "outputs": [
        {
          "output_type": "execute_result",
          "data": {
            "text/html": [
              "<div>\n",
              "<style scoped>\n",
              "    .dataframe tbody tr th:only-of-type {\n",
              "        vertical-align: middle;\n",
              "    }\n",
              "\n",
              "    .dataframe tbody tr th {\n",
              "        vertical-align: top;\n",
              "    }\n",
              "\n",
              "    .dataframe thead th {\n",
              "        text-align: right;\n",
              "    }\n",
              "</style>\n",
              "<table border=\"1\" class=\"dataframe\">\n",
              "  <thead>\n",
              "    <tr style=\"text-align: right;\">\n",
              "      <th></th>\n",
              "      <th>clientnum</th>\n",
              "      <th>attrition_flag</th>\n",
              "      <th>customer_age</th>\n",
              "      <th>gender</th>\n",
              "      <th>dependent_count</th>\n",
              "      <th>education_level</th>\n",
              "      <th>marital_status</th>\n",
              "      <th>income_category</th>\n",
              "      <th>card_category</th>\n",
              "      <th>months_on_book</th>\n",
              "      <th>total_relationship_count</th>\n",
              "      <th>months_inactive_12_mon</th>\n",
              "      <th>contacts_count_12_mon</th>\n",
              "      <th>credit_limit</th>\n",
              "      <th>total_revolving_bal</th>\n",
              "      <th>avg_open_to_buy</th>\n",
              "      <th>total_amt_chng_q4_q1</th>\n",
              "      <th>total_trans_amt</th>\n",
              "      <th>total_trans_ct</th>\n",
              "      <th>total_ct_chng_q4_q1</th>\n",
              "      <th>avg_utilization_ratio</th>\n",
              "      <th>naive_bayes_1</th>\n",
              "      <th>naive_bayes_2</th>\n",
              "    </tr>\n",
              "    <tr>\n",
              "      <th>id</th>\n",
              "      <th></th>\n",
              "      <th></th>\n",
              "      <th></th>\n",
              "      <th></th>\n",
              "      <th></th>\n",
              "      <th></th>\n",
              "      <th></th>\n",
              "      <th></th>\n",
              "      <th></th>\n",
              "      <th></th>\n",
              "      <th></th>\n",
              "      <th></th>\n",
              "      <th></th>\n",
              "      <th></th>\n",
              "      <th></th>\n",
              "      <th></th>\n",
              "      <th></th>\n",
              "      <th></th>\n",
              "      <th></th>\n",
              "      <th></th>\n",
              "      <th></th>\n",
              "      <th></th>\n",
              "      <th></th>\n",
              "    </tr>\n",
              "  </thead>\n",
              "  <tbody>\n",
              "    <tr>\n",
              "      <th>0</th>\n",
              "      <td>768805383</td>\n",
              "      <td>Existing Customer</td>\n",
              "      <td>45</td>\n",
              "      <td>M</td>\n",
              "      <td>3</td>\n",
              "      <td>High School</td>\n",
              "      <td>Married</td>\n",
              "      <td>$60K - $80K</td>\n",
              "      <td>Blue</td>\n",
              "      <td>39</td>\n",
              "      <td>5</td>\n",
              "      <td>1</td>\n",
              "      <td>3</td>\n",
              "      <td>12691.0</td>\n",
              "      <td>777</td>\n",
              "      <td>11914.0</td>\n",
              "      <td>1.335</td>\n",
              "      <td>1144</td>\n",
              "      <td>42</td>\n",
              "      <td>1.625</td>\n",
              "      <td>0.061</td>\n",
              "      <td>0.000093</td>\n",
              "      <td>0.999910</td>\n",
              "    </tr>\n",
              "    <tr>\n",
              "      <th>1</th>\n",
              "      <td>818770008</td>\n",
              "      <td>Existing Customer</td>\n",
              "      <td>49</td>\n",
              "      <td>F</td>\n",
              "      <td>5</td>\n",
              "      <td>Graduate</td>\n",
              "      <td>Single</td>\n",
              "      <td>Less than $40K</td>\n",
              "      <td>Blue</td>\n",
              "      <td>44</td>\n",
              "      <td>6</td>\n",
              "      <td>1</td>\n",
              "      <td>2</td>\n",
              "      <td>8256.0</td>\n",
              "      <td>864</td>\n",
              "      <td>7392.0</td>\n",
              "      <td>1.541</td>\n",
              "      <td>1291</td>\n",
              "      <td>33</td>\n",
              "      <td>3.714</td>\n",
              "      <td>0.105</td>\n",
              "      <td>0.000057</td>\n",
              "      <td>0.999940</td>\n",
              "    </tr>\n",
              "    <tr>\n",
              "      <th>2</th>\n",
              "      <td>713982108</td>\n",
              "      <td>Existing Customer</td>\n",
              "      <td>51</td>\n",
              "      <td>M</td>\n",
              "      <td>3</td>\n",
              "      <td>Graduate</td>\n",
              "      <td>Married</td>\n",
              "      <td>$80K - $120K</td>\n",
              "      <td>Blue</td>\n",
              "      <td>36</td>\n",
              "      <td>4</td>\n",
              "      <td>1</td>\n",
              "      <td>0</td>\n",
              "      <td>3418.0</td>\n",
              "      <td>0</td>\n",
              "      <td>3418.0</td>\n",
              "      <td>2.594</td>\n",
              "      <td>1887</td>\n",
              "      <td>20</td>\n",
              "      <td>2.333</td>\n",
              "      <td>0.000</td>\n",
              "      <td>0.000021</td>\n",
              "      <td>0.999980</td>\n",
              "    </tr>\n",
              "    <tr>\n",
              "      <th>3</th>\n",
              "      <td>769911858</td>\n",
              "      <td>Existing Customer</td>\n",
              "      <td>40</td>\n",
              "      <td>F</td>\n",
              "      <td>4</td>\n",
              "      <td>High School</td>\n",
              "      <td>Unknown</td>\n",
              "      <td>Less than $40K</td>\n",
              "      <td>Blue</td>\n",
              "      <td>34</td>\n",
              "      <td>3</td>\n",
              "      <td>4</td>\n",
              "      <td>1</td>\n",
              "      <td>3313.0</td>\n",
              "      <td>2517</td>\n",
              "      <td>796.0</td>\n",
              "      <td>1.405</td>\n",
              "      <td>1171</td>\n",
              "      <td>20</td>\n",
              "      <td>2.333</td>\n",
              "      <td>0.760</td>\n",
              "      <td>0.000134</td>\n",
              "      <td>0.999870</td>\n",
              "    </tr>\n",
              "    <tr>\n",
              "      <th>4</th>\n",
              "      <td>709106358</td>\n",
              "      <td>Existing Customer</td>\n",
              "      <td>40</td>\n",
              "      <td>M</td>\n",
              "      <td>3</td>\n",
              "      <td>Uneducated</td>\n",
              "      <td>Married</td>\n",
              "      <td>$60K - $80K</td>\n",
              "      <td>Blue</td>\n",
              "      <td>21</td>\n",
              "      <td>5</td>\n",
              "      <td>1</td>\n",
              "      <td>0</td>\n",
              "      <td>4716.0</td>\n",
              "      <td>0</td>\n",
              "      <td>4716.0</td>\n",
              "      <td>2.175</td>\n",
              "      <td>816</td>\n",
              "      <td>28</td>\n",
              "      <td>2.500</td>\n",
              "      <td>0.000</td>\n",
              "      <td>0.000022</td>\n",
              "      <td>0.999980</td>\n",
              "    </tr>\n",
              "    <tr>\n",
              "      <th>...</th>\n",
              "      <td>...</td>\n",
              "      <td>...</td>\n",
              "      <td>...</td>\n",
              "      <td>...</td>\n",
              "      <td>...</td>\n",
              "      <td>...</td>\n",
              "      <td>...</td>\n",
              "      <td>...</td>\n",
              "      <td>...</td>\n",
              "      <td>...</td>\n",
              "      <td>...</td>\n",
              "      <td>...</td>\n",
              "      <td>...</td>\n",
              "      <td>...</td>\n",
              "      <td>...</td>\n",
              "      <td>...</td>\n",
              "      <td>...</td>\n",
              "      <td>...</td>\n",
              "      <td>...</td>\n",
              "      <td>...</td>\n",
              "      <td>...</td>\n",
              "      <td>...</td>\n",
              "      <td>...</td>\n",
              "    </tr>\n",
              "    <tr>\n",
              "      <th>10122</th>\n",
              "      <td>772366833</td>\n",
              "      <td>Existing Customer</td>\n",
              "      <td>50</td>\n",
              "      <td>M</td>\n",
              "      <td>2</td>\n",
              "      <td>Graduate</td>\n",
              "      <td>Single</td>\n",
              "      <td>$40K - $60K</td>\n",
              "      <td>Blue</td>\n",
              "      <td>40</td>\n",
              "      <td>3</td>\n",
              "      <td>2</td>\n",
              "      <td>3</td>\n",
              "      <td>4003.0</td>\n",
              "      <td>1851</td>\n",
              "      <td>2152.0</td>\n",
              "      <td>0.703</td>\n",
              "      <td>15476</td>\n",
              "      <td>117</td>\n",
              "      <td>0.857</td>\n",
              "      <td>0.462</td>\n",
              "      <td>0.000191</td>\n",
              "      <td>0.999810</td>\n",
              "    </tr>\n",
              "    <tr>\n",
              "      <th>10123</th>\n",
              "      <td>710638233</td>\n",
              "      <td>Attrited Customer</td>\n",
              "      <td>41</td>\n",
              "      <td>M</td>\n",
              "      <td>2</td>\n",
              "      <td>Unknown</td>\n",
              "      <td>Divorced</td>\n",
              "      <td>$40K - $60K</td>\n",
              "      <td>Blue</td>\n",
              "      <td>25</td>\n",
              "      <td>4</td>\n",
              "      <td>2</td>\n",
              "      <td>3</td>\n",
              "      <td>4277.0</td>\n",
              "      <td>2186</td>\n",
              "      <td>2091.0</td>\n",
              "      <td>0.804</td>\n",
              "      <td>8764</td>\n",
              "      <td>69</td>\n",
              "      <td>0.683</td>\n",
              "      <td>0.511</td>\n",
              "      <td>0.995270</td>\n",
              "      <td>0.004729</td>\n",
              "    </tr>\n",
              "    <tr>\n",
              "      <th>10124</th>\n",
              "      <td>716506083</td>\n",
              "      <td>Attrited Customer</td>\n",
              "      <td>44</td>\n",
              "      <td>F</td>\n",
              "      <td>1</td>\n",
              "      <td>High School</td>\n",
              "      <td>Married</td>\n",
              "      <td>Less than $40K</td>\n",
              "      <td>Blue</td>\n",
              "      <td>36</td>\n",
              "      <td>5</td>\n",
              "      <td>3</td>\n",
              "      <td>4</td>\n",
              "      <td>5409.0</td>\n",
              "      <td>0</td>\n",
              "      <td>5409.0</td>\n",
              "      <td>0.819</td>\n",
              "      <td>10291</td>\n",
              "      <td>60</td>\n",
              "      <td>0.818</td>\n",
              "      <td>0.000</td>\n",
              "      <td>0.997880</td>\n",
              "      <td>0.002118</td>\n",
              "    </tr>\n",
              "    <tr>\n",
              "      <th>10125</th>\n",
              "      <td>717406983</td>\n",
              "      <td>Attrited Customer</td>\n",
              "      <td>30</td>\n",
              "      <td>M</td>\n",
              "      <td>2</td>\n",
              "      <td>Graduate</td>\n",
              "      <td>Unknown</td>\n",
              "      <td>$40K - $60K</td>\n",
              "      <td>Blue</td>\n",
              "      <td>36</td>\n",
              "      <td>4</td>\n",
              "      <td>3</td>\n",
              "      <td>3</td>\n",
              "      <td>5281.0</td>\n",
              "      <td>0</td>\n",
              "      <td>5281.0</td>\n",
              "      <td>0.535</td>\n",
              "      <td>8395</td>\n",
              "      <td>62</td>\n",
              "      <td>0.722</td>\n",
              "      <td>0.000</td>\n",
              "      <td>0.996710</td>\n",
              "      <td>0.003294</td>\n",
              "    </tr>\n",
              "    <tr>\n",
              "      <th>10126</th>\n",
              "      <td>714337233</td>\n",
              "      <td>Attrited Customer</td>\n",
              "      <td>43</td>\n",
              "      <td>F</td>\n",
              "      <td>2</td>\n",
              "      <td>Graduate</td>\n",
              "      <td>Married</td>\n",
              "      <td>Less than $40K</td>\n",
              "      <td>Silver</td>\n",
              "      <td>25</td>\n",
              "      <td>6</td>\n",
              "      <td>2</td>\n",
              "      <td>4</td>\n",
              "      <td>10388.0</td>\n",
              "      <td>1961</td>\n",
              "      <td>8427.0</td>\n",
              "      <td>0.703</td>\n",
              "      <td>10294</td>\n",
              "      <td>61</td>\n",
              "      <td>0.649</td>\n",
              "      <td>0.189</td>\n",
              "      <td>0.996620</td>\n",
              "      <td>0.003377</td>\n",
              "    </tr>\n",
              "  </tbody>\n",
              "</table>\n",
              "<p>10127 rows × 23 columns</p>\n",
              "</div>"
            ],
            "text/plain": [
              "       clientnum     attrition_flag  ...  naive_bayes_1 naive_bayes_2\n",
              "id                                   ...                             \n",
              "0      768805383  Existing Customer  ...       0.000093      0.999910\n",
              "1      818770008  Existing Customer  ...       0.000057      0.999940\n",
              "2      713982108  Existing Customer  ...       0.000021      0.999980\n",
              "3      769911858  Existing Customer  ...       0.000134      0.999870\n",
              "4      709106358  Existing Customer  ...       0.000022      0.999980\n",
              "...          ...                ...  ...            ...           ...\n",
              "10122  772366833  Existing Customer  ...       0.000191      0.999810\n",
              "10123  710638233  Attrited Customer  ...       0.995270      0.004729\n",
              "10124  716506083  Attrited Customer  ...       0.997880      0.002118\n",
              "10125  717406983  Attrited Customer  ...       0.996710      0.003294\n",
              "10126  714337233  Attrited Customer  ...       0.996620      0.003377\n",
              "\n",
              "[10127 rows x 23 columns]"
            ]
          },
          "metadata": {
            "tags": []
          },
          "execution_count": 17
        }
      ]
    },
    {
      "cell_type": "code",
      "metadata": {
        "id": "to8v0vNPuALK"
      },
      "source": [
        "import seaborn as sns\n",
        "import matplotlib as mpl\n",
        "import matplotlib.pyplot as plt\n",
        "mpl.rcParams['axes.labelsize'] = 14\n",
        "mpl.rcParams['xtick.labelsize'] = 14\n",
        "# mpl.rcParams.keys()\n",
        "sns.set_palette('Accent')"
      ],
      "execution_count": null,
      "outputs": []
    },
    {
      "cell_type": "code",
      "metadata": {
        "colab": {
          "base_uri": "https://localhost:8080/",
          "height": 593
        },
        "id": "jAGlXZoCwLyu",
        "outputId": "0471c62d-521a-4f9b-e143-6c50256b4200"
      },
      "source": [
        "plt.figure(figsize=(16,9))\n",
        "sns.histplot(x = df['attrition_flag'], data= df)\n",
        "plt.figure(figsize= (40,10))"
      ],
      "execution_count": null,
      "outputs": [
        {
          "output_type": "execute_result",
          "data": {
            "text/plain": [
              "<Figure size 2880x720 with 0 Axes>"
            ]
          },
          "metadata": {
            "tags": []
          },
          "execution_count": 19
        },
        {
          "output_type": "display_data",
          "data": {
            "image/png": "[encoded data removed]",
            "text/plain": [
              "<Figure size 1152x648 with 1 Axes>"
            ]
          },
          "metadata": {
            "tags": [],
            "needs_background": "light"
          }
        },
        {
          "output_type": "display_data",
          "data": {
            "text/plain": [
              "<Figure size 2880x720 with 0 Axes>"
            ]
          },
          "metadata": {
            "tags": []
          }
        }
      ]
    },
    {
      "cell_type": "markdown",
      "metadata": {
        "id": "TOzubiB2XQAH"
      },
      "source": [
        "**Nota:** Esta variable evidencia si el cliente tiene una cuenta existente o no con el banco\n",
        "\n",
        "Se evidencia que la tendencia (moda) de esta variable es que el cliente tenga una cuenta existente con el banco"
      ]
    },
    {
      "cell_type": "code",
      "metadata": {
        "colab": {
          "base_uri": "https://localhost:8080/",
          "height": 576
        },
        "id": "CkT4bnuQwSAb",
        "outputId": "59d4f965-f27f-4e2a-e4dd-99e57784a106"
      },
      "source": [
        "plt.figure(figsize=(16,9))\n",
        "sns.histplot(x = df['customer_age'], data= df)"
      ],
      "execution_count": null,
      "outputs": [
        {
          "output_type": "execute_result",
          "data": {
            "text/plain": [
              "<matplotlib.axes._subplots.AxesSubplot at 0x7fbe6b630e90>"
            ]
          },
          "metadata": {
            "tags": []
          },
          "execution_count": 20
        },
        {
          "output_type": "display_data",
          "data": {
            "image/png": "[encoded data removed]",
            "text/plain": [
              "<Figure size 1152x648 with 1 Axes>"
            ]
          },
          "metadata": {
            "tags": [],
            "needs_background": "light"
          }
        }
      ]
    },
    {
      "cell_type": "code",
      "metadata": {
        "colab": {
          "base_uri": "https://localhost:8080/",
          "height": 576
        },
        "id": "ozYm2w5cuD1M",
        "outputId": "9b24fa63-1cd7-492a-f371-0b23c60834da"
      },
      "source": [
        "plt.figure(figsize=(16,9))\n",
        "sns.histplot(x = df['gender'], data= df)"
      ],
      "execution_count": null,
      "outputs": [
        {
          "output_type": "execute_result",
          "data": {
            "text/plain": [
              "<matplotlib.axes._subplots.AxesSubplot at 0x7fbe6b630910>"
            ]
          },
          "metadata": {
            "tags": []
          },
          "execution_count": 21
        },
        {
          "output_type": "display_data",
          "data": {
            "image/png": "[encoded data removed]",
            "text/plain": [
              "<Figure size 1152x648 with 1 Axes>"
            ]
          },
          "metadata": {
            "tags": [],
            "needs_background": "light"
          }
        }
      ]
    },
    {
      "cell_type": "markdown",
      "metadata": {
        "id": "TArkio0UXz0N"
      },
      "source": [
        "**Nota:** Esta variable evidencia si el género del cliente \n",
        "\n",
        "Se evidencia que la tendencia (moda) de esta variable es que el cliente sea de género femenino"
      ]
    },
    {
      "cell_type": "code",
      "metadata": {
        "colab": {
          "base_uri": "https://localhost:8080/",
          "height": 576
        },
        "id": "5pHAymv4ySfk",
        "outputId": "ecce7ade-014f-4c49-8ab9-284aeaed2ad1"
      },
      "source": [
        "plt.figure(figsize=(16,9))\n",
        "sns.histplot(x = df['dependent_count'], data = df)"
      ],
      "execution_count": null,
      "outputs": [
        {
          "output_type": "execute_result",
          "data": {
            "text/plain": [
              "<matplotlib.axes._subplots.AxesSubplot at 0x7fbe6b0d7090>"
            ]
          },
          "metadata": {
            "tags": []
          },
          "execution_count": 22
        },
        {
          "output_type": "display_data",
          "data": {
            "image/png": "[encoded data removed]",
            "text/plain": [
              "<Figure size 1152x648 with 1 Axes>"
            ]
          },
          "metadata": {
            "tags": [],
            "needs_background": "light"
          }
        }
      ]
    },
    {
      "cell_type": "code",
      "metadata": {
        "colab": {
          "base_uri": "https://localhost:8080/",
          "height": 626
        },
        "id": "dnPbXf-Yzqdt",
        "outputId": "0dbf30bb-f04d-4b28-8c08-a4ced676bb5f"
      },
      "source": [
        "plt.figure(figsize=(16,9))\n",
        "sns.histplot(x = df['education_level'], data = df)\n",
        "plt.xticks(rotation=45,ha='right');"
      ],
      "execution_count": null,
      "outputs": [
        {
          "output_type": "display_data",
          "data": {
            "image/png": "[encoded data removed]",
            "text/plain": [
              "<Figure size 1152x648 with 1 Axes>"
            ]
          },
          "metadata": {
            "tags": [],
            "needs_background": "light"
          }
        }
      ]
    },
    {
      "cell_type": "markdown",
      "metadata": {
        "id": "oToMZ2RWX_Xu"
      },
      "source": [
        "**Nota:** Esta variable evidencia el nivel de educación del cliente\n",
        "\n",
        "Se evidencia que la tendencia (moda) de esta variable es que el cliente tenga como máximo nivel de educación ('graduate'), es decir, que ha cursado una carrera profesional"
      ]
    },
    {
      "cell_type": "code",
      "metadata": {
        "colab": {
          "base_uri": "https://localhost:8080/",
          "height": 576
        },
        "id": "k2h40atQwbKc",
        "outputId": "09e66216-1e8b-4b66-9389-9a12f1d3ac8a"
      },
      "source": [
        "plt.figure(figsize=(16,9))\n",
        "sns.histplot(x = df['marital_status'], data= df)"
      ],
      "execution_count": null,
      "outputs": [
        {
          "output_type": "execute_result",
          "data": {
            "text/plain": [
              "<matplotlib.axes._subplots.AxesSubplot at 0x7fbe6b065b10>"
            ]
          },
          "metadata": {
            "tags": []
          },
          "execution_count": 24
        },
        {
          "output_type": "display_data",
          "data": {
            "image/png": "[encoded data removed]",
            "text/plain": [
              "<Figure size 1152x648 with 1 Axes>"
            ]
          },
          "metadata": {
            "tags": [],
            "needs_background": "light"
          }
        }
      ]
    },
    {
      "cell_type": "markdown",
      "metadata": {
        "id": "ETbGFLppYdOL"
      },
      "source": [
        "**Nota:** Esta variable evidencia si el estado civil del cliente\n",
        "\n",
        "Se evidencia que la tendencia (moda) de esta variable es que el cliente esté casado/casada"
      ]
    },
    {
      "cell_type": "code",
      "metadata": {
        "colab": {
          "base_uri": "https://localhost:8080/",
          "height": 631
        },
        "id": "dy8J9uWUwt7F",
        "outputId": "3848566c-bf86-4ae6-c519-73195c3d049c"
      },
      "source": [
        "plt.figure(figsize=(16,9))\n",
        "sns.histplot(x = df['income_category'], data= df)\n",
        "plt.xticks(rotation=45,ha='right');"
      ],
      "execution_count": null,
      "outputs": [
        {
          "output_type": "display_data",
          "data": {
            "image/png": "[encoded data removed]",
            "text/plain": [
              "<Figure size 1152x648 with 1 Axes>"
            ]
          },
          "metadata": {
            "tags": [],
            "needs_background": "light"
          }
        }
      ]
    },
    {
      "cell_type": "markdown",
      "metadata": {
        "id": "rvAqXB5KYzGS"
      },
      "source": [
        "**Nota:** Esta variable expresa el valor del ingreso anual del cliente (dueño de la cuenta)\n",
        "\n",
        "Se evidencia que la tendencia (moda) de esta variable es que el dueño de la cuenta tenga unos ingresos menores a los $40000USD"
      ]
    },
    {
      "cell_type": "code",
      "metadata": {
        "colab": {
          "base_uri": "https://localhost:8080/",
          "height": 400
        },
        "id": "Gvle72uHzE66",
        "outputId": "6ce4e25c-ab5b-4269-aa19-63a453d672a5"
      },
      "source": [
        "plt.figure(figsize=(16,9))\n",
        "sns.histplot(x= df['card_category'], data=df)"
      ],
      "execution_count": null,
      "outputs": [
        {
          "output_type": "execute_result",
          "data": {
            "text/plain": [
              "<matplotlib.axes._subplots.AxesSubplot at 0x7fbe6af04290>"
            ]
          },
          "metadata": {
            "tags": []
          },
          "execution_count": 26
        },
        {
          "output_type": "display_data",
          "data": {
            "image/png": "[encoded data removed]",
            "text/plain": [
              "<Figure size 1152x648 with 1 Axes>"
            ]
          },
          "metadata": {
            "tags": [],
            "needs_background": "light"
          }
        }
      ]
    },
    {
      "cell_type": "markdown",
      "metadata": {
        "id": "PplvRqQ1Y_En"
      },
      "source": [
        "**Nota:** Esta variable expresa el tipo de tarjeta del cliente /dueño de la cuenta\n",
        "\n",
        "Se evidencia que la tendencia (moda) de esta variable es la tarjeta de tipo 'azul'"
      ]
    },
    {
      "cell_type": "code",
      "metadata": {
        "colab": {
          "base_uri": "https://localhost:8080/",
          "height": 400
        },
        "id": "UwgnPVUR1Njd",
        "outputId": "e97b2a10-85ed-49d9-c347-85ea7730d7fc"
      },
      "source": [
        "plt.figure(figsize=(16,9))\n",
        "sns.histplot(x= df['months_on_book'], data=df)"
      ],
      "execution_count": null,
      "outputs": [
        {
          "output_type": "execute_result",
          "data": {
            "text/plain": [
              "<matplotlib.axes._subplots.AxesSubplot at 0x7fbe6af04890>"
            ]
          },
          "metadata": {
            "tags": []
          },
          "execution_count": 27
        },
        {
          "output_type": "display_data",
          "data": {
            "image/png": "[encoded data removed]",
            "text/plain": [
              "<Figure size 1152x648 with 1 Axes>"
            ]
          },
          "metadata": {
            "tags": [],
            "needs_background": "light"
          }
        }
      ]
    },
    {
      "cell_type": "code",
      "metadata": {
        "colab": {
          "base_uri": "https://localhost:8080/",
          "height": 400
        },
        "id": "a8-Wld3i1VAv",
        "outputId": "c0ed15fe-2529-4f69-883a-517f8f3d656e"
      },
      "source": [
        "plt.figure(figsize=(16,9))\n",
        "sns.histplot(x= df['total_relationship_count'], data=df)"
      ],
      "execution_count": null,
      "outputs": [
        {
          "output_type": "execute_result",
          "data": {
            "text/plain": [
              "<matplotlib.axes._subplots.AxesSubplot at 0x7fbe6ad1a490>"
            ]
          },
          "metadata": {
            "tags": []
          },
          "execution_count": 28
        },
        {
          "output_type": "display_data",
          "data": {
            "image/png": "[encoded data removed]",
            "text/plain": [
              "<Figure size 1152x648 with 1 Axes>"
            ]
          },
          "metadata": {
            "tags": [],
            "needs_background": "light"
          }
        }
      ]
    },
    {
      "cell_type": "code",
      "metadata": {
        "colab": {
          "base_uri": "https://localhost:8080/",
          "height": 400
        },
        "id": "bYRHRtH01bIy",
        "outputId": "72bfb1be-8f66-4a45-d537-293b8eefc643"
      },
      "source": [
        "plt.figure(figsize=(16,9))\n",
        "sns.histplot(x= df['months_inactive_12_mon'], data=df)"
      ],
      "execution_count": null,
      "outputs": [
        {
          "output_type": "execute_result",
          "data": {
            "text/plain": [
              "<matplotlib.axes._subplots.AxesSubplot at 0x7fbe6ae20ed0>"
            ]
          },
          "metadata": {
            "tags": []
          },
          "execution_count": 29
        },
        {
          "output_type": "display_data",
          "data": {
            "image/png": "[encoded data removed]",
            "text/plain": [
              "<Figure size 1152x648 with 1 Axes>"
            ]
          },
          "metadata": {
            "tags": [],
            "needs_background": "light"
          }
        }
      ]
    },
    {
      "cell_type": "code",
      "metadata": {
        "colab": {
          "base_uri": "https://localhost:8080/",
          "height": 400
        },
        "id": "6hnUppDX1l1_",
        "outputId": "b71bd81b-32cb-4fd0-d817-c03e41916899"
      },
      "source": [
        "plt.figure(figsize=(16,9))\n",
        "sns.histplot(x= df['months_inactive_12_mon'], data=df)"
      ],
      "execution_count": null,
      "outputs": [
        {
          "output_type": "execute_result",
          "data": {
            "text/plain": [
              "<matplotlib.axes._subplots.AxesSubplot at 0x7fbe6ab69110>"
            ]
          },
          "metadata": {
            "tags": []
          },
          "execution_count": 30
        },
        {
          "output_type": "display_data",
          "data": {
            "image/png": "[encoded data removed]",
            "text/plain": [
              "<Figure size 1152x648 with 1 Axes>"
            ]
          },
          "metadata": {
            "tags": [],
            "needs_background": "light"
          }
        }
      ]
    },
    {
      "cell_type": "code",
      "metadata": {
        "colab": {
          "base_uri": "https://localhost:8080/",
          "height": 400
        },
        "id": "XQ_c6_eo2yY7",
        "outputId": "bff36219-97c0-4572-a778-11efbc161c94"
      },
      "source": [
        "plt.figure(figsize=(16,9))\n",
        "sns.histplot(x= df['contacts_count_12_mon'], data=df)"
      ],
      "execution_count": null,
      "outputs": [
        {
          "output_type": "execute_result",
          "data": {
            "text/plain": [
              "<matplotlib.axes._subplots.AxesSubplot at 0x7fbe6c7fb4d0>"
            ]
          },
          "metadata": {
            "tags": []
          },
          "execution_count": 31
        },
        {
          "output_type": "display_data",
          "data": {
            "image/png": "[encoded data removed]",
            "text/plain": [
              "<Figure size 1152x648 with 1 Axes>"
            ]
          },
          "metadata": {
            "tags": [],
            "needs_background": "light"
          }
        }
      ]
    },
    {
      "cell_type": "code",
      "metadata": {
        "colab": {
          "base_uri": "https://localhost:8080/",
          "height": 400
        },
        "id": "VRKFAGGl2-T4",
        "outputId": "a086e297-301a-4492-e8db-32f20d7285c7"
      },
      "source": [
        "plt.figure(figsize=(16,9))\n",
        "sns.histplot(x= df['credit_limit'], data=df)"
      ],
      "execution_count": null,
      "outputs": [
        {
          "output_type": "execute_result",
          "data": {
            "text/plain": [
              "<matplotlib.axes._subplots.AxesSubplot at 0x7fbe6ac62590>"
            ]
          },
          "metadata": {
            "tags": []
          },
          "execution_count": 32
        },
        {
          "output_type": "display_data",
          "data": {
            "image/png": "[encoded data removed]",
            "text/plain": [
              "<Figure size 1152x648 with 1 Axes>"
            ]
          },
          "metadata": {
            "tags": [],
            "needs_background": "light"
          }
        }
      ]
    },
    {
      "cell_type": "code",
      "metadata": {
        "colab": {
          "base_uri": "https://localhost:8080/",
          "height": 400
        },
        "id": "B1_M3grx3FDx",
        "outputId": "165d2c0a-8fd7-41fe-cbd1-8fb75a49c556"
      },
      "source": [
        "plt.figure(figsize=(16,9))\n",
        "sns.histplot(x= df['total_revolving_bal'], data=df)"
      ],
      "execution_count": null,
      "outputs": [
        {
          "output_type": "execute_result",
          "data": {
            "text/plain": [
              "<matplotlib.axes._subplots.AxesSubplot at 0x7fbe6aa27510>"
            ]
          },
          "metadata": {
            "tags": []
          },
          "execution_count": 33
        },
        {
          "output_type": "display_data",
          "data": {
            "image/png": "[encoded data removed]",
            "text/plain": [
              "<Figure size 1152x648 with 1 Axes>"
            ]
          },
          "metadata": {
            "tags": [],
            "needs_background": "light"
          }
        }
      ]
    },
    {
      "cell_type": "code",
      "metadata": {
        "colab": {
          "base_uri": "https://localhost:8080/",
          "height": 400
        },
        "id": "P4Sq1CUQ3NOa",
        "outputId": "e8caa506-ee0c-4fdb-c871-a7349c4b3c8b"
      },
      "source": [
        "plt.figure(figsize=(16,9))\n",
        "sns.histplot(x= df['total_revolving_bal'], data=df)"
      ],
      "execution_count": null,
      "outputs": [
        {
          "output_type": "execute_result",
          "data": {
            "text/plain": [
              "<matplotlib.axes._subplots.AxesSubplot at 0x7fbe6a89dc90>"
            ]
          },
          "metadata": {
            "tags": []
          },
          "execution_count": 34
        },
        {
          "output_type": "display_data",
          "data": {
            "image/png": "[encoded data removed]",
            "text/plain": [
              "<Figure size 1152x648 with 1 Axes>"
            ]
          },
          "metadata": {
            "tags": [],
            "needs_background": "light"
          }
        }
      ]
    },
    {
      "cell_type": "code",
      "metadata": {
        "colab": {
          "base_uri": "https://localhost:8080/",
          "height": 400
        },
        "id": "uoN4By8A3UHs",
        "outputId": "140e548b-bc73-42e7-d099-9e79bb9326bb"
      },
      "source": [
        "plt.figure(figsize=(16,9))\n",
        "sns.histplot(x= df['avg_open_to_buy'], data=df)"
      ],
      "execution_count": null,
      "outputs": [
        {
          "output_type": "execute_result",
          "data": {
            "text/plain": [
              "<matplotlib.axes._subplots.AxesSubplot at 0x7fbe6a75b310>"
            ]
          },
          "metadata": {
            "tags": []
          },
          "execution_count": 35
        },
        {
          "output_type": "display_data",
          "data": {
            "image/png": "[encoded data removed]",
            "text/plain": [
              "<Figure size 1152x648 with 1 Axes>"
            ]
          },
          "metadata": {
            "tags": [],
            "needs_background": "light"
          }
        }
      ]
    },
    {
      "cell_type": "code",
      "metadata": {
        "colab": {
          "base_uri": "https://localhost:8080/",
          "height": 402
        },
        "id": "ZLf2AOw73bRW",
        "outputId": "82b8899c-58b8-4483-c946-83056d2f4a7e"
      },
      "source": [
        "plt.figure(figsize=(16,9))\n",
        "sns.histplot(x= df['total_amt_chng_q4_q1'], data=df)"
      ],
      "execution_count": null,
      "outputs": [
        {
          "output_type": "execute_result",
          "data": {
            "text/plain": [
              "<matplotlib.axes._subplots.AxesSubplot at 0x7fbe6a6b4b10>"
            ]
          },
          "metadata": {
            "tags": []
          },
          "execution_count": 36
        },
        {
          "output_type": "display_data",
          "data": {
            "image/png": "[encoded data removed]",
            "text/plain": [
              "<Figure size 1152x648 with 1 Axes>"
            ]
          },
          "metadata": {
            "tags": [],
            "needs_background": "light"
          }
        }
      ]
    },
    {
      "cell_type": "code",
      "metadata": {
        "colab": {
          "base_uri": "https://localhost:8080/",
          "height": 402
        },
        "id": "F0eOmZuE3r8M",
        "outputId": "a55726b4-81af-49b3-b08a-dc8a77eaa3ac"
      },
      "source": [
        "plt.figure(figsize=(16,9))\n",
        "sns.histplot(x= df['total_trans_amt'], data=df)"
      ],
      "execution_count": null,
      "outputs": [
        {
          "output_type": "execute_result",
          "data": {
            "text/plain": [
              "<matplotlib.axes._subplots.AxesSubplot at 0x7fbe6ae28b10>"
            ]
          },
          "metadata": {
            "tags": []
          },
          "execution_count": 37
        },
        {
          "output_type": "display_data",
          "data": {
            "image/png": "[encoded data removed]",
            "text/plain": [
              "<Figure size 1152x648 with 1 Axes>"
            ]
          },
          "metadata": {
            "tags": [],
            "needs_background": "light"
          }
        }
      ]
    },
    {
      "cell_type": "code",
      "metadata": {
        "colab": {
          "base_uri": "https://localhost:8080/",
          "height": 402
        },
        "id": "hj_8xX2B3wOT",
        "outputId": "daf4f36a-c3f4-42c0-a0e9-09f8e908c3da"
      },
      "source": [
        "plt.figure(figsize=(16,9))\n",
        "sns.histplot(x= df['total_trans_ct'], data=df)"
      ],
      "execution_count": null,
      "outputs": [
        {
          "output_type": "execute_result",
          "data": {
            "text/plain": [
              "<matplotlib.axes._subplots.AxesSubplot at 0x7fbe6a2f5550>"
            ]
          },
          "metadata": {
            "tags": []
          },
          "execution_count": 38
        },
        {
          "output_type": "display_data",
          "data": {
            "image/png": "[encoded data removed]",
            "text/plain": [
              "<Figure size 1152x648 with 1 Axes>"
            ]
          },
          "metadata": {
            "tags": [],
            "needs_background": "light"
          }
        }
      ]
    },
    {
      "cell_type": "code",
      "metadata": {
        "colab": {
          "base_uri": "https://localhost:8080/",
          "height": 402
        },
        "id": "6Lw_D7_b30pp",
        "outputId": "7f0b893f-e156-4e40-83aa-3a7c12bbf9b6"
      },
      "source": [
        "plt.figure(figsize=(16,9))\n",
        "sns.histplot(x= df['total_ct_chng_q4_q1'], data=df)"
      ],
      "execution_count": null,
      "outputs": [
        {
          "output_type": "execute_result",
          "data": {
            "text/plain": [
              "<matplotlib.axes._subplots.AxesSubplot at 0x7fbe6a2c5110>"
            ]
          },
          "metadata": {
            "tags": []
          },
          "execution_count": 39
        },
        {
          "output_type": "display_data",
          "data": {
            "image/png": "[encoded data removed]",
            "text/plain": [
              "<Figure size 1152x648 with 1 Axes>"
            ]
          },
          "metadata": {
            "tags": [],
            "needs_background": "light"
          }
        }
      ]
    },
    {
      "cell_type": "code",
      "metadata": {
        "colab": {
          "base_uri": "https://localhost:8080/",
          "height": 400
        },
        "id": "G1Yq4AxQ36V7",
        "outputId": "e7403e2a-1cb1-4cb2-9782-64f49712bbe3"
      },
      "source": [
        "plt.figure(figsize=(16,9))\n",
        "sns.histplot(x= df['avg_utilization_ratio'], data=df)"
      ],
      "execution_count": null,
      "outputs": [
        {
          "output_type": "execute_result",
          "data": {
            "text/plain": [
              "<matplotlib.axes._subplots.AxesSubplot at 0x7fbe6a1da750>"
            ]
          },
          "metadata": {
            "tags": []
          },
          "execution_count": 40
        },
        {
          "output_type": "display_data",
          "data": {
            "image/png": "[encoded data removed]",
            "text/plain": [
              "<Figure size 1152x648 with 1 Axes>"
            ]
          },
          "metadata": {
            "tags": [],
            "needs_background": "light"
          }
        }
      ]
    },
    {
      "cell_type": "code",
      "metadata": {
        "colab": {
          "base_uri": "https://localhost:8080/",
          "height": 315
        },
        "id": "8snQs3aW4ubS",
        "outputId": "c2fdf996-aa16-44c7-8bc5-86dda17356fa"
      },
      "source": [
        "df.describe() #Antes de la eliminación de los datos atípicos"
      ],
      "execution_count": null,
      "outputs": [
        {
          "output_type": "execute_result",
          "data": {
            "text/html": [
              "<div>\n",
              "<style scoped>\n",
              "    .dataframe tbody tr th:only-of-type {\n",
              "        vertical-align: middle;\n",
              "    }\n",
              "\n",
              "    .dataframe tbody tr th {\n",
              "        vertical-align: top;\n",
              "    }\n",
              "\n",
              "    .dataframe thead th {\n",
              "        text-align: right;\n",
              "    }\n",
              "</style>\n",
              "<table border=\"1\" class=\"dataframe\">\n",
              "  <thead>\n",
              "    <tr style=\"text-align: right;\">\n",
              "      <th></th>\n",
              "      <th>clientnum</th>\n",
              "      <th>customer_age</th>\n",
              "      <th>dependent_count</th>\n",
              "      <th>months_on_book</th>\n",
              "      <th>total_relationship_count</th>\n",
              "      <th>months_inactive_12_mon</th>\n",
              "      <th>contacts_count_12_mon</th>\n",
              "      <th>credit_limit</th>\n",
              "      <th>total_revolving_bal</th>\n",
              "      <th>avg_open_to_buy</th>\n",
              "      <th>total_amt_chng_q4_q1</th>\n",
              "      <th>total_trans_amt</th>\n",
              "      <th>total_trans_ct</th>\n",
              "      <th>total_ct_chng_q4_q1</th>\n",
              "      <th>avg_utilization_ratio</th>\n",
              "      <th>naive_bayes_1</th>\n",
              "      <th>naive_bayes_2</th>\n",
              "    </tr>\n",
              "  </thead>\n",
              "  <tbody>\n",
              "    <tr>\n",
              "      <th>count</th>\n",
              "      <td>1.012700e+04</td>\n",
              "      <td>10127.000000</td>\n",
              "      <td>10127.000000</td>\n",
              "      <td>10127.000000</td>\n",
              "      <td>10127.000000</td>\n",
              "      <td>10127.000000</td>\n",
              "      <td>10127.000000</td>\n",
              "      <td>10127.000000</td>\n",
              "      <td>10127.000000</td>\n",
              "      <td>10127.000000</td>\n",
              "      <td>10127.000000</td>\n",
              "      <td>10127.000000</td>\n",
              "      <td>10127.000000</td>\n",
              "      <td>10127.000000</td>\n",
              "      <td>10127.000000</td>\n",
              "      <td>10127.000000</td>\n",
              "      <td>10127.000000</td>\n",
              "    </tr>\n",
              "    <tr>\n",
              "      <th>mean</th>\n",
              "      <td>7.391776e+08</td>\n",
              "      <td>46.325960</td>\n",
              "      <td>2.346203</td>\n",
              "      <td>35.928409</td>\n",
              "      <td>3.812580</td>\n",
              "      <td>2.341167</td>\n",
              "      <td>2.455317</td>\n",
              "      <td>8631.953698</td>\n",
              "      <td>1162.814061</td>\n",
              "      <td>7469.139637</td>\n",
              "      <td>0.759941</td>\n",
              "      <td>4404.086304</td>\n",
              "      <td>64.858695</td>\n",
              "      <td>0.712222</td>\n",
              "      <td>0.274894</td>\n",
              "      <td>0.159997</td>\n",
              "      <td>0.840003</td>\n",
              "    </tr>\n",
              "    <tr>\n",
              "      <th>std</th>\n",
              "      <td>3.690378e+07</td>\n",
              "      <td>8.016814</td>\n",
              "      <td>1.298908</td>\n",
              "      <td>7.986416</td>\n",
              "      <td>1.554408</td>\n",
              "      <td>1.010622</td>\n",
              "      <td>1.106225</td>\n",
              "      <td>9088.776650</td>\n",
              "      <td>814.987335</td>\n",
              "      <td>9090.685324</td>\n",
              "      <td>0.219207</td>\n",
              "      <td>3397.129254</td>\n",
              "      <td>23.472570</td>\n",
              "      <td>0.238086</td>\n",
              "      <td>0.275691</td>\n",
              "      <td>0.365301</td>\n",
              "      <td>0.365301</td>\n",
              "    </tr>\n",
              "    <tr>\n",
              "      <th>min</th>\n",
              "      <td>7.080821e+08</td>\n",
              "      <td>26.000000</td>\n",
              "      <td>0.000000</td>\n",
              "      <td>13.000000</td>\n",
              "      <td>1.000000</td>\n",
              "      <td>0.000000</td>\n",
              "      <td>0.000000</td>\n",
              "      <td>1438.300000</td>\n",
              "      <td>0.000000</td>\n",
              "      <td>3.000000</td>\n",
              "      <td>0.000000</td>\n",
              "      <td>510.000000</td>\n",
              "      <td>10.000000</td>\n",
              "      <td>0.000000</td>\n",
              "      <td>0.000000</td>\n",
              "      <td>0.000008</td>\n",
              "      <td>0.000420</td>\n",
              "    </tr>\n",
              "    <tr>\n",
              "      <th>25%</th>\n",
              "      <td>7.130368e+08</td>\n",
              "      <td>41.000000</td>\n",
              "      <td>1.000000</td>\n",
              "      <td>31.000000</td>\n",
              "      <td>3.000000</td>\n",
              "      <td>2.000000</td>\n",
              "      <td>2.000000</td>\n",
              "      <td>2555.000000</td>\n",
              "      <td>359.000000</td>\n",
              "      <td>1324.500000</td>\n",
              "      <td>0.631000</td>\n",
              "      <td>2155.500000</td>\n",
              "      <td>45.000000</td>\n",
              "      <td>0.582000</td>\n",
              "      <td>0.023000</td>\n",
              "      <td>0.000099</td>\n",
              "      <td>0.999660</td>\n",
              "    </tr>\n",
              "    <tr>\n",
              "      <th>50%</th>\n",
              "      <td>7.179264e+08</td>\n",
              "      <td>46.000000</td>\n",
              "      <td>2.000000</td>\n",
              "      <td>36.000000</td>\n",
              "      <td>4.000000</td>\n",
              "      <td>2.000000</td>\n",
              "      <td>2.000000</td>\n",
              "      <td>4549.000000</td>\n",
              "      <td>1276.000000</td>\n",
              "      <td>3474.000000</td>\n",
              "      <td>0.736000</td>\n",
              "      <td>3899.000000</td>\n",
              "      <td>67.000000</td>\n",
              "      <td>0.702000</td>\n",
              "      <td>0.176000</td>\n",
              "      <td>0.000181</td>\n",
              "      <td>0.999820</td>\n",
              "    </tr>\n",
              "    <tr>\n",
              "      <th>75%</th>\n",
              "      <td>7.731435e+08</td>\n",
              "      <td>52.000000</td>\n",
              "      <td>3.000000</td>\n",
              "      <td>40.000000</td>\n",
              "      <td>5.000000</td>\n",
              "      <td>3.000000</td>\n",
              "      <td>3.000000</td>\n",
              "      <td>11067.500000</td>\n",
              "      <td>1784.000000</td>\n",
              "      <td>9859.000000</td>\n",
              "      <td>0.859000</td>\n",
              "      <td>4741.000000</td>\n",
              "      <td>81.000000</td>\n",
              "      <td>0.818000</td>\n",
              "      <td>0.503000</td>\n",
              "      <td>0.000337</td>\n",
              "      <td>0.999900</td>\n",
              "    </tr>\n",
              "    <tr>\n",
              "      <th>max</th>\n",
              "      <td>8.283431e+08</td>\n",
              "      <td>73.000000</td>\n",
              "      <td>5.000000</td>\n",
              "      <td>56.000000</td>\n",
              "      <td>6.000000</td>\n",
              "      <td>6.000000</td>\n",
              "      <td>6.000000</td>\n",
              "      <td>34516.000000</td>\n",
              "      <td>2517.000000</td>\n",
              "      <td>34516.000000</td>\n",
              "      <td>3.397000</td>\n",
              "      <td>18484.000000</td>\n",
              "      <td>139.000000</td>\n",
              "      <td>3.714000</td>\n",
              "      <td>0.999000</td>\n",
              "      <td>0.999580</td>\n",
              "      <td>0.999990</td>\n",
              "    </tr>\n",
              "  </tbody>\n",
              "</table>\n",
              "</div>"
            ],
            "text/plain": [
              "          clientnum  customer_age  ...  naive_bayes_1  naive_bayes_2\n",
              "count  1.012700e+04  10127.000000  ...   10127.000000   10127.000000\n",
              "mean   7.391776e+08     46.325960  ...       0.159997       0.840003\n",
              "std    3.690378e+07      8.016814  ...       0.365301       0.365301\n",
              "min    7.080821e+08     26.000000  ...       0.000008       0.000420\n",
              "25%    7.130368e+08     41.000000  ...       0.000099       0.999660\n",
              "50%    7.179264e+08     46.000000  ...       0.000181       0.999820\n",
              "75%    7.731435e+08     52.000000  ...       0.000337       0.999900\n",
              "max    8.283431e+08     73.000000  ...       0.999580       0.999990\n",
              "\n",
              "[8 rows x 17 columns]"
            ]
          },
          "metadata": {
            "tags": []
          },
          "execution_count": 41
        }
      ]
    },
    {
      "cell_type": "markdown",
      "metadata": {
        "id": "da0stHw165QT"
      },
      "source": [
        "**Eliminación de datos atípicos**"
      ]
    },
    {
      "cell_type": "markdown",
      "metadata": {
        "id": "DMRqSAJd-Nl0"
      },
      "source": [
        "**Customer_age**"
      ]
    },
    {
      "cell_type": "code",
      "metadata": {
        "colab": {
          "base_uri": "https://localhost:8080/"
        },
        "id": "yLAQwqtZ6IoS",
        "outputId": "b965ce9c-b04d-47ab-d4b2-f55904c32bdd"
      },
      "source": [
        "meanage = df['customer_age'].mean() \n",
        "stdage = df['customer_age'].std() \n",
        "toprange = meanage + 1.96*stdage\n",
        "botrange = meanage - 1.96*stdage\n",
        "copydf = df \n",
        "copydf = copydf.drop(copydf[copydf['customer_age']> toprange].index) \n",
        "copydf = copydf.drop(copydf[copydf['customer_age']< botrange].index)\n",
        "copydf.shape "
      ],
      "execution_count": null,
      "outputs": [
        {
          "output_type": "execute_result",
          "data": {
            "text/plain": [
              "(9643, 23)"
            ]
          },
          "metadata": {
            "tags": []
          },
          "execution_count": 42
        }
      ]
    },
    {
      "cell_type": "code",
      "metadata": {
        "colab": {
          "base_uri": "https://localhost:8080/",
          "height": 304
        },
        "id": "GwuQeQen7iRJ",
        "outputId": "963456b5-bfb2-4ec3-e451-55b1188f9a4e"
      },
      "source": [
        "sns.histplot(x = copydf['customer_age'], data= copydf)"
      ],
      "execution_count": null,
      "outputs": [
        {
          "output_type": "execute_result",
          "data": {
            "text/plain": [
              "<matplotlib.axes._subplots.AxesSubplot at 0x7fbe69f8f7d0>"
            ]
          },
          "metadata": {
            "tags": []
          },
          "execution_count": 43
        },
        {
          "output_type": "display_data",
          "data": {
            "image/png": "[encoded data removed]",
            "text/plain": [
              "<Figure size 432x288 with 1 Axes>"
            ]
          },
          "metadata": {
            "tags": [],
            "needs_background": "light"
          }
        }
      ]
    },
    {
      "cell_type": "markdown",
      "metadata": {
        "id": "VBKHrft6MOKF"
      },
      "source": [
        "**Nota:** Los datos atípicos para esta variable muestran aquellas edades con menor presencia en los clientes del banco. Se identifica que las edades por fuera de los 31 años y los 63 años aproxidamente son datos atípicos.\n",
        "\n",
        "Se decide eliminar estos 484 datos por fuera de este rango dado que no pueden reemplazarse por otros o la media de los datos dada su característica única. Además, se evidencia que las edades mayores a 70 años son eliminadas por completo."
      ]
    },
    {
      "cell_type": "markdown",
      "metadata": {
        "id": "nvIi4An_9mM9"
      },
      "source": [
        "Estadísticos de **customer_age** al quitar datos atípicos:"
      ]
    },
    {
      "cell_type": "code",
      "metadata": {
        "colab": {
          "base_uri": "https://localhost:8080/"
        },
        "id": "CwXBcS5G8bW-",
        "outputId": "99e1c56a-ac61-41bb-e758-9e90b3a99eb9"
      },
      "source": [
        "copydf['customer_age'].describe()"
      ],
      "execution_count": null,
      "outputs": [
        {
          "output_type": "execute_result",
          "data": {
            "text/plain": [
              "count    9643.000000\n",
              "mean       46.419579\n",
              "std         7.128058\n",
              "min        31.000000\n",
              "25%        41.000000\n",
              "50%        46.000000\n",
              "75%        52.000000\n",
              "max        62.000000\n",
              "Name: customer_age, dtype: float64"
            ]
          },
          "metadata": {
            "tags": []
          },
          "execution_count": 44
        }
      ]
    },
    {
      "cell_type": "markdown",
      "metadata": {
        "id": "a-Ikqjew_R4h"
      },
      "source": [
        "**Dependent_count**"
      ]
    },
    {
      "cell_type": "code",
      "metadata": {
        "colab": {
          "base_uri": "https://localhost:8080/"
        },
        "id": "dqq2FnLQ9gPd",
        "outputId": "bc35a1ce-d760-4f34-f226-515c542eecf6"
      },
      "source": [
        "meanDc = df['dependent_count'].mean() \n",
        "stdDc = df['dependent_count'].std() \n",
        "toprange = meanDc + 1.96*stdDc\n",
        "botrange = meanDc - 1.96*stdDc\n",
        "copydfDc = df \n",
        "copydfDc = copydfDc.drop(copydfDc[copydfDc['dependent_count']> toprange].index) \n",
        "copydfDc = copydfDc.drop(copydfDc[copydfDc['dependent_count']< botrange].index)\n",
        "copydfDc.shape "
      ],
      "execution_count": null,
      "outputs": [
        {
          "output_type": "execute_result",
          "data": {
            "text/plain": [
              "(9703, 23)"
            ]
          },
          "metadata": {
            "tags": []
          },
          "execution_count": 45
        }
      ]
    },
    {
      "cell_type": "code",
      "metadata": {
        "colab": {
          "base_uri": "https://localhost:8080/",
          "height": 304
        },
        "id": "Or2U2dSE_4PC",
        "outputId": "b4782cc6-2ebb-4d56-aa08-0bb596d8ace7"
      },
      "source": [
        "sns.histplot(x = copydfDc['dependent_count'], data= copydfDc)"
      ],
      "execution_count": null,
      "outputs": [
        {
          "output_type": "execute_result",
          "data": {
            "text/plain": [
              "<matplotlib.axes._subplots.AxesSubplot at 0x7fbe69e7c210>"
            ]
          },
          "metadata": {
            "tags": []
          },
          "execution_count": 46
        },
        {
          "output_type": "display_data",
          "data": {
            "image/png": "[encoded data removed]",
            "text/plain": [
              "<Figure size 432x288 with 1 Axes>"
            ]
          },
          "metadata": {
            "tags": [],
            "needs_background": "light"
          }
        }
      ]
    },
    {
      "cell_type": "markdown",
      "metadata": {
        "id": "j3RxRqNVOB6V"
      },
      "source": [
        "**Nota:** Los datos atípicos para esta variable evidencian el número de dependientes menos frecuente en los clientes.\n",
        "\n",
        "Si se decide eliminar los datos atipicos (424), se evidencia que la dependencia de número'5' se elimina completamente. Esto debido a que no son datos que puedan reemplazarse por una media u otro dato dadas sus características."
      ]
    },
    {
      "cell_type": "markdown",
      "metadata": {
        "id": "-mgAhudtNPff"
      },
      "source": [
        "Estadísticos de **dependent_count** al quitar datos atípicos:"
      ]
    },
    {
      "cell_type": "code",
      "metadata": {
        "colab": {
          "base_uri": "https://localhost:8080/"
        },
        "id": "gJR66bRFNHke",
        "outputId": "2933db39-bae8-47a5-e94a-c49385d65130"
      },
      "source": [
        "copydf['dependent_count'].describe()"
      ],
      "execution_count": null,
      "outputs": [
        {
          "output_type": "execute_result",
          "data": {
            "text/plain": [
              "count    9643.000000\n",
              "mean        2.439697\n",
              "std         1.252737\n",
              "min         0.000000\n",
              "25%         2.000000\n",
              "50%         2.000000\n",
              "75%         3.000000\n",
              "max         5.000000\n",
              "Name: dependent_count, dtype: float64"
            ]
          },
          "metadata": {
            "tags": []
          },
          "execution_count": 47
        }
      ]
    },
    {
      "cell_type": "markdown",
      "metadata": {
        "id": "-a3n8IgWAR9E"
      },
      "source": [
        "**months_on_book**"
      ]
    },
    {
      "cell_type": "code",
      "metadata": {
        "colab": {
          "base_uri": "https://localhost:8080/"
        },
        "id": "GxLRM-MYD0Vj",
        "outputId": "4412ef5e-8503-49ec-f91f-61ca39887214"
      },
      "source": [
        "meanMb = df['months_on_book'].mean() \n",
        "stdMb = df['months_on_book'].std() \n",
        "toprange = meanMb + 1.96*stdMb\n",
        "botrange = meanMb - 1.96*stdMb\n",
        "copydfMb = df \n",
        "copydfMb = copydfMb.drop(copydfMb[copydfMb['months_on_book']> toprange].index) \n",
        "copydfMb = copydfMb.drop(copydfMb[copydfMb['months_on_book']< botrange].index)\n",
        "copydfMb.shape "
      ],
      "execution_count": null,
      "outputs": [
        {
          "output_type": "execute_result",
          "data": {
            "text/plain": [
              "(9406, 23)"
            ]
          },
          "metadata": {
            "tags": []
          },
          "execution_count": 48
        }
      ]
    },
    {
      "cell_type": "code",
      "metadata": {
        "colab": {
          "base_uri": "https://localhost:8080/",
          "height": 304
        },
        "id": "PQhhejSaEXtK",
        "outputId": "5ec36f5c-9a0d-42cd-c4fa-36e29d389eaa"
      },
      "source": [
        "sns.histplot(x = copydfMb['months_on_book'], data= copydfMb)"
      ],
      "execution_count": null,
      "outputs": [
        {
          "output_type": "execute_result",
          "data": {
            "text/plain": [
              "<matplotlib.axes._subplots.AxesSubplot at 0x7fbe69e1bcd0>"
            ]
          },
          "metadata": {
            "tags": []
          },
          "execution_count": 49
        },
        {
          "output_type": "display_data",
          "data": {
            "image/png": "[encoded data removed]",
            "text/plain": [
              "<Figure size 432x288 with 1 Axes>"
            ]
          },
          "metadata": {
            "tags": [],
            "needs_background": "light"
          }
        }
      ]
    },
    {
      "cell_type": "markdown",
      "metadata": {
        "id": "yo9Ci_rMOWgr"
      },
      "source": [
        "**Nota:** Los datos atípicos para esta variable evidencian los extremos de duración (corta o larga) de la relación con el banco de los clientes\n",
        "\n",
        "Se eliminan los datos que tienen una duración menor a 22 meses y mayor a 51 meses de relación con el banco, debido a la tendencia del gráfico y a la imposibilidad de cambiar estos datos por otro valor."
      ]
    },
    {
      "cell_type": "markdown",
      "metadata": {
        "id": "juqbet6INVjv"
      },
      "source": [
        "Estadísticos de **months_on_book** al quitar datos atípicos:"
      ]
    },
    {
      "cell_type": "code",
      "metadata": {
        "colab": {
          "base_uri": "https://localhost:8080/"
        },
        "id": "FyC6X1e2NZcY",
        "outputId": "2c1889f3-0190-4a17-a55a-da2bfd796e48"
      },
      "source": [
        "copydf['months_on_book'].describe()"
      ],
      "execution_count": null,
      "outputs": [
        {
          "output_type": "execute_result",
          "data": {
            "text/plain": [
              "count    9643.00000\n",
              "mean       35.98683\n",
              "std         7.32514\n",
              "min        13.00000\n",
              "25%        32.00000\n",
              "50%        36.00000\n",
              "75%        40.00000\n",
              "max        56.00000\n",
              "Name: months_on_book, dtype: float64"
            ]
          },
          "metadata": {
            "tags": []
          },
          "execution_count": 50
        }
      ]
    },
    {
      "cell_type": "markdown",
      "metadata": {
        "id": "TGa49KqhiMoJ"
      },
      "source": [
        "# **total_relationship_count**"
      ]
    },
    {
      "cell_type": "code",
      "metadata": {
        "colab": {
          "base_uri": "https://localhost:8080/",
          "height": 100
        },
        "id": "_klIOCaThJ2C",
        "outputId": "cf6239bb-061c-48e0-da05-f0901d2e340f"
      },
      "source": [
        "meanage = df['total_relationship_count'].mean() \n",
        "stdage = df['total_relationship_count'].std() \n",
        "toprange = meanage + 1.96*stdage\n",
        "botrange = meanage - 1.96*stdage\n",
        "copydf = df \n",
        "copydf1 = copydf[copydf['total_relationship_count']> toprange]\n",
        "copydf1 = copydf[copydf['total_relationship_count']< botrange]\n",
        "copydf1"
      ],
      "execution_count": null,
      "outputs": [
        {
          "output_type": "execute_result",
          "data": {
            "text/html": [
              "<div>\n",
              "<style scoped>\n",
              "    .dataframe tbody tr th:only-of-type {\n",
              "        vertical-align: middle;\n",
              "    }\n",
              "\n",
              "    .dataframe tbody tr th {\n",
              "        vertical-align: top;\n",
              "    }\n",
              "\n",
              "    .dataframe thead th {\n",
              "        text-align: right;\n",
              "    }\n",
              "</style>\n",
              "<table border=\"1\" class=\"dataframe\">\n",
              "  <thead>\n",
              "    <tr style=\"text-align: right;\">\n",
              "      <th></th>\n",
              "      <th>clientnum</th>\n",
              "      <th>attrition_flag</th>\n",
              "      <th>customer_age</th>\n",
              "      <th>gender</th>\n",
              "      <th>dependent_count</th>\n",
              "      <th>education_level</th>\n",
              "      <th>marital_status</th>\n",
              "      <th>income_category</th>\n",
              "      <th>card_category</th>\n",
              "      <th>months_on_book</th>\n",
              "      <th>total_relationship_count</th>\n",
              "      <th>months_inactive_12_mon</th>\n",
              "      <th>contacts_count_12_mon</th>\n",
              "      <th>credit_limit</th>\n",
              "      <th>total_revolving_bal</th>\n",
              "      <th>avg_open_to_buy</th>\n",
              "      <th>total_amt_chng_q4_q1</th>\n",
              "      <th>total_trans_amt</th>\n",
              "      <th>total_trans_ct</th>\n",
              "      <th>total_ct_chng_q4_q1</th>\n",
              "      <th>avg_utilization_ratio</th>\n",
              "      <th>naive_bayes_1</th>\n",
              "      <th>naive_bayes_2</th>\n",
              "    </tr>\n",
              "    <tr>\n",
              "      <th>id</th>\n",
              "      <th></th>\n",
              "      <th></th>\n",
              "      <th></th>\n",
              "      <th></th>\n",
              "      <th></th>\n",
              "      <th></th>\n",
              "      <th></th>\n",
              "      <th></th>\n",
              "      <th></th>\n",
              "      <th></th>\n",
              "      <th></th>\n",
              "      <th></th>\n",
              "      <th></th>\n",
              "      <th></th>\n",
              "      <th></th>\n",
              "      <th></th>\n",
              "      <th></th>\n",
              "      <th></th>\n",
              "      <th></th>\n",
              "      <th></th>\n",
              "      <th></th>\n",
              "      <th></th>\n",
              "      <th></th>\n",
              "    </tr>\n",
              "  </thead>\n",
              "  <tbody>\n",
              "  </tbody>\n",
              "</table>\n",
              "</div>"
            ],
            "text/plain": [
              "Empty DataFrame\n",
              "Columns: [clientnum, attrition_flag, customer_age, gender, dependent_count, education_level, marital_status, income_category, card_category, months_on_book, total_relationship_count, months_inactive_12_mon, contacts_count_12_mon, credit_limit, total_revolving_bal, avg_open_to_buy, total_amt_chng_q4_q1, total_trans_amt, total_trans_ct, total_ct_chng_q4_q1, avg_utilization_ratio, naive_bayes_1, naive_bayes_2]\n",
              "Index: []"
            ]
          },
          "metadata": {
            "tags": []
          },
          "execution_count": 71
        }
      ]
    },
    {
      "cell_type": "markdown",
      "metadata": {
        "id": "JKsg7RV2iVay"
      },
      "source": [
        "#**Conclusión:** \n",
        "Para esta variable, no se encontraron datos atípicos, teniendo en cuenta que los clientes no se van a retirar por tener uno o más productos a su cargo de su tarjeta."
      ]
    },
    {
      "cell_type": "markdown",
      "metadata": {
        "id": "zKD0xZrnltTO"
      },
      "source": [
        "# **months_inactive_12_mon**"
      ]
    },
    {
      "cell_type": "code",
      "metadata": {
        "colab": {
          "base_uri": "https://localhost:8080/",
          "height": 338
        },
        "id": "U13y4IgbjgUq",
        "outputId": "32412e4f-f26c-478d-d568-9738bd89b930"
      },
      "source": [
        "meanage = df['months_inactive_12_mon'].mean() \n",
        "stdage = df['months_inactive_12_mon'].std() \n",
        "toprange = meanage + 1.96*stdage\n",
        "botrange = meanage - 1.96*stdage\n",
        "copydf12 = df \n",
        "copydf2 = copydf12[copydf12['months_inactive_12_mon']> toprange]\n",
        "copydf2 = copydf12[copydf12['months_inactive_12_mon']< botrange]\n",
        "copydf2.head()"
      ],
      "execution_count": null,
      "outputs": [
        {
          "output_type": "execute_result",
          "data": {
            "text/html": [
              "<div>\n",
              "<style scoped>\n",
              "    .dataframe tbody tr th:only-of-type {\n",
              "        vertical-align: middle;\n",
              "    }\n",
              "\n",
              "    .dataframe tbody tr th {\n",
              "        vertical-align: top;\n",
              "    }\n",
              "\n",
              "    .dataframe thead th {\n",
              "        text-align: right;\n",
              "    }\n",
              "</style>\n",
              "<table border=\"1\" class=\"dataframe\">\n",
              "  <thead>\n",
              "    <tr style=\"text-align: right;\">\n",
              "      <th></th>\n",
              "      <th>clientnum</th>\n",
              "      <th>attrition_flag</th>\n",
              "      <th>customer_age</th>\n",
              "      <th>gender</th>\n",
              "      <th>dependent_count</th>\n",
              "      <th>education_level</th>\n",
              "      <th>marital_status</th>\n",
              "      <th>income_category</th>\n",
              "      <th>card_category</th>\n",
              "      <th>months_on_book</th>\n",
              "      <th>total_relationship_count</th>\n",
              "      <th>months_inactive_12_mon</th>\n",
              "      <th>contacts_count_12_mon</th>\n",
              "      <th>credit_limit</th>\n",
              "      <th>total_revolving_bal</th>\n",
              "      <th>avg_open_to_buy</th>\n",
              "      <th>total_amt_chng_q4_q1</th>\n",
              "      <th>total_trans_amt</th>\n",
              "      <th>total_trans_ct</th>\n",
              "      <th>total_ct_chng_q4_q1</th>\n",
              "      <th>avg_utilization_ratio</th>\n",
              "      <th>naive_bayes_1</th>\n",
              "      <th>naive_bayes_2</th>\n",
              "    </tr>\n",
              "    <tr>\n",
              "      <th>id</th>\n",
              "      <th></th>\n",
              "      <th></th>\n",
              "      <th></th>\n",
              "      <th></th>\n",
              "      <th></th>\n",
              "      <th></th>\n",
              "      <th></th>\n",
              "      <th></th>\n",
              "      <th></th>\n",
              "      <th></th>\n",
              "      <th></th>\n",
              "      <th></th>\n",
              "      <th></th>\n",
              "      <th></th>\n",
              "      <th></th>\n",
              "      <th></th>\n",
              "      <th></th>\n",
              "      <th></th>\n",
              "      <th></th>\n",
              "      <th></th>\n",
              "      <th></th>\n",
              "      <th></th>\n",
              "      <th></th>\n",
              "    </tr>\n",
              "  </thead>\n",
              "  <tbody>\n",
              "    <tr>\n",
              "      <th>29</th>\n",
              "      <td>806624208</td>\n",
              "      <td>Existing Customer</td>\n",
              "      <td>47</td>\n",
              "      <td>M</td>\n",
              "      <td>4</td>\n",
              "      <td>High School</td>\n",
              "      <td>Married</td>\n",
              "      <td>$40K - $60K</td>\n",
              "      <td>Blue</td>\n",
              "      <td>42</td>\n",
              "      <td>6</td>\n",
              "      <td>0</td>\n",
              "      <td>0</td>\n",
              "      <td>4785.0</td>\n",
              "      <td>1362</td>\n",
              "      <td>3423.0</td>\n",
              "      <td>0.739</td>\n",
              "      <td>1045</td>\n",
              "      <td>38</td>\n",
              "      <td>0.900</td>\n",
              "      <td>0.285</td>\n",
              "      <td>0.000008</td>\n",
              "      <td>0.99999</td>\n",
              "    </tr>\n",
              "    <tr>\n",
              "      <th>108</th>\n",
              "      <td>808284783</td>\n",
              "      <td>Existing Customer</td>\n",
              "      <td>62</td>\n",
              "      <td>F</td>\n",
              "      <td>1</td>\n",
              "      <td>Unknown</td>\n",
              "      <td>Married</td>\n",
              "      <td>Less than $40K</td>\n",
              "      <td>Blue</td>\n",
              "      <td>56</td>\n",
              "      <td>6</td>\n",
              "      <td>0</td>\n",
              "      <td>0</td>\n",
              "      <td>1438.3</td>\n",
              "      <td>0</td>\n",
              "      <td>1438.3</td>\n",
              "      <td>0.813</td>\n",
              "      <td>1951</td>\n",
              "      <td>44</td>\n",
              "      <td>1.095</td>\n",
              "      <td>0.000</td>\n",
              "      <td>0.000008</td>\n",
              "      <td>0.99999</td>\n",
              "    </tr>\n",
              "    <tr>\n",
              "      <th>1470</th>\n",
              "      <td>721084833</td>\n",
              "      <td>Existing Customer</td>\n",
              "      <td>48</td>\n",
              "      <td>M</td>\n",
              "      <td>5</td>\n",
              "      <td>High School</td>\n",
              "      <td>Married</td>\n",
              "      <td>$40K - $60K</td>\n",
              "      <td>Silver</td>\n",
              "      <td>34</td>\n",
              "      <td>5</td>\n",
              "      <td>0</td>\n",
              "      <td>2</td>\n",
              "      <td>17657.0</td>\n",
              "      <td>2018</td>\n",
              "      <td>15639.0</td>\n",
              "      <td>0.550</td>\n",
              "      <td>1682</td>\n",
              "      <td>39</td>\n",
              "      <td>0.950</td>\n",
              "      <td>0.114</td>\n",
              "      <td>0.000018</td>\n",
              "      <td>0.99998</td>\n",
              "    </tr>\n",
              "    <tr>\n",
              "      <th>1721</th>\n",
              "      <td>711509658</td>\n",
              "      <td>Attrited Customer</td>\n",
              "      <td>61</td>\n",
              "      <td>M</td>\n",
              "      <td>2</td>\n",
              "      <td>Graduate</td>\n",
              "      <td>Married</td>\n",
              "      <td>$120K +</td>\n",
              "      <td>Blue</td>\n",
              "      <td>49</td>\n",
              "      <td>3</td>\n",
              "      <td>0</td>\n",
              "      <td>4</td>\n",
              "      <td>11374.0</td>\n",
              "      <td>2517</td>\n",
              "      <td>8857.0</td>\n",
              "      <td>1.015</td>\n",
              "      <td>1088</td>\n",
              "      <td>26</td>\n",
              "      <td>1.167</td>\n",
              "      <td>0.221</td>\n",
              "      <td>0.983190</td>\n",
              "      <td>0.01681</td>\n",
              "    </tr>\n",
              "    <tr>\n",
              "      <th>2126</th>\n",
              "      <td>715517733</td>\n",
              "      <td>Attrited Customer</td>\n",
              "      <td>46</td>\n",
              "      <td>F</td>\n",
              "      <td>3</td>\n",
              "      <td>High School</td>\n",
              "      <td>Single</td>\n",
              "      <td>Less than $40K</td>\n",
              "      <td>Silver</td>\n",
              "      <td>39</td>\n",
              "      <td>1</td>\n",
              "      <td>0</td>\n",
              "      <td>4</td>\n",
              "      <td>13092.0</td>\n",
              "      <td>1962</td>\n",
              "      <td>11130.0</td>\n",
              "      <td>0.686</td>\n",
              "      <td>936</td>\n",
              "      <td>25</td>\n",
              "      <td>0.250</td>\n",
              "      <td>0.150</td>\n",
              "      <td>0.981590</td>\n",
              "      <td>0.01841</td>\n",
              "    </tr>\n",
              "  </tbody>\n",
              "</table>\n",
              "</div>"
            ],
            "text/plain": [
              "      clientnum     attrition_flag  ...  naive_bayes_1 naive_bayes_2\n",
              "id                                  ...                             \n",
              "29    806624208  Existing Customer  ...       0.000008       0.99999\n",
              "108   808284783  Existing Customer  ...       0.000008       0.99999\n",
              "1470  721084833  Existing Customer  ...       0.000018       0.99998\n",
              "1721  711509658  Attrited Customer  ...       0.983190       0.01681\n",
              "2126  715517733  Attrited Customer  ...       0.981590       0.01841\n",
              "\n",
              "[5 rows x 23 columns]"
            ]
          },
          "metadata": {
            "tags": []
          },
          "execution_count": 58
        }
      ]
    },
    {
      "cell_type": "markdown",
      "metadata": {
        "id": "PNfMzEr_jnGu"
      },
      "source": [
        "**Nota:** Los datos atípicos para esta variable muestran la gente que esta utilizando la tarjeta constantemente durante el último año, por lo tanto llevan 0 meses inactivos.\n",
        "\n",
        "Al ver que son únicamente 29 clientes que están activos, se analizó que no es una cantidad significativa de clientes para poder tomar desiciones con valor. Por esto, se decidió eliminar estos datos, debido a que no es adecuado reemplazarlos por la media de inactividad u otros datos.\n"
      ]
    },
    {
      "cell_type": "code",
      "metadata": {
        "colab": {
          "base_uri": "https://localhost:8080/",
          "height": 400
        },
        "id": "ebAsK9spjuqB",
        "outputId": "c51ccc7f-537d-4705-b3b9-b05d07251942"
      },
      "source": [
        "meanage = df['months_inactive_12_mon'].mean() \n",
        "stdage = df['months_inactive_12_mon'].std() \n",
        "toprange = meanage + 1.96*stdage\n",
        "botrange = meanage - 1.96*stdage\n",
        "copyIn = df \n",
        "copyInac = copyIn.drop(copyIn[copyIn['months_inactive_12_mon']> toprange].index)\n",
        "copyInac= copyIn.drop(copyIn[copyIn['months_inactive_12_mon']< botrange].index)\n",
        "plt.figure(figsize=(16,9))\n",
        "sns.histplot(x= copyInac['months_inactive_12_mon'], data=copyInac)"
      ],
      "execution_count": null,
      "outputs": [
        {
          "output_type": "execute_result",
          "data": {
            "text/plain": [
              "<matplotlib.axes._subplots.AxesSubplot at 0x7fbe699e8310>"
            ]
          },
          "metadata": {
            "tags": []
          },
          "execution_count": 59
        },
        {
          "output_type": "display_data",
          "data": {
            "image/png": "[encoded data removed]",
            "text/plain": [
              "<Figure size 1152x648 with 1 Axes>"
            ]
          },
          "metadata": {
            "tags": [],
            "needs_background": "light"
          }
        }
      ]
    },
    {
      "cell_type": "markdown",
      "metadata": {
        "id": "cVjDw_XfjymP"
      },
      "source": [
        "# **Conclusión:** \n",
        "Después de remover los datos atipicos se pudo ver de manera más clara, que las personas más propensas a dejar las tarjetas de crédito con ese banco son aquellas que llevan un mes o más inactivos en plazo del último año."
      ]
    },
    {
      "cell_type": "markdown",
      "metadata": {
        "id": "nYHy04yrljoU"
      },
      "source": [
        "# **contacts_counts_12_mon**"
      ]
    },
    {
      "cell_type": "code",
      "metadata": {
        "colab": {
          "base_uri": "https://localhost:8080/",
          "height": 338
        },
        "id": "Tu8_l0woj3FL",
        "outputId": "009acd19-0cb0-40e7-f381-81b32be56209"
      },
      "source": [
        "meanage = df['contacts_count_12_mon'].mean() \n",
        "stdage = df['contacts_count_12_mon'].std() \n",
        "toprange = meanage + 1.96*stdage\n",
        "botrange = meanage - 1.96*stdage\n",
        "copydf12 = df \n",
        "copydf2 = copydf12[copydf12['contacts_count_12_mon']> toprange]\n",
        "copydf2 = copydf12[copydf12['contacts_count_12_mon']< botrange]\n",
        "copydf2.head()"
      ],
      "execution_count": null,
      "outputs": [
        {
          "output_type": "execute_result",
          "data": {
            "text/html": [
              "<div>\n",
              "<style scoped>\n",
              "    .dataframe tbody tr th:only-of-type {\n",
              "        vertical-align: middle;\n",
              "    }\n",
              "\n",
              "    .dataframe tbody tr th {\n",
              "        vertical-align: top;\n",
              "    }\n",
              "\n",
              "    .dataframe thead th {\n",
              "        text-align: right;\n",
              "    }\n",
              "</style>\n",
              "<table border=\"1\" class=\"dataframe\">\n",
              "  <thead>\n",
              "    <tr style=\"text-align: right;\">\n",
              "      <th></th>\n",
              "      <th>clientnum</th>\n",
              "      <th>attrition_flag</th>\n",
              "      <th>customer_age</th>\n",
              "      <th>gender</th>\n",
              "      <th>dependent_count</th>\n",
              "      <th>education_level</th>\n",
              "      <th>marital_status</th>\n",
              "      <th>income_category</th>\n",
              "      <th>card_category</th>\n",
              "      <th>months_on_book</th>\n",
              "      <th>total_relationship_count</th>\n",
              "      <th>months_inactive_12_mon</th>\n",
              "      <th>contacts_count_12_mon</th>\n",
              "      <th>credit_limit</th>\n",
              "      <th>total_revolving_bal</th>\n",
              "      <th>avg_open_to_buy</th>\n",
              "      <th>total_amt_chng_q4_q1</th>\n",
              "      <th>total_trans_amt</th>\n",
              "      <th>total_trans_ct</th>\n",
              "      <th>total_ct_chng_q4_q1</th>\n",
              "      <th>avg_utilization_ratio</th>\n",
              "      <th>naive_bayes_1</th>\n",
              "      <th>naive_bayes_2</th>\n",
              "    </tr>\n",
              "    <tr>\n",
              "      <th>id</th>\n",
              "      <th></th>\n",
              "      <th></th>\n",
              "      <th></th>\n",
              "      <th></th>\n",
              "      <th></th>\n",
              "      <th></th>\n",
              "      <th></th>\n",
              "      <th></th>\n",
              "      <th></th>\n",
              "      <th></th>\n",
              "      <th></th>\n",
              "      <th></th>\n",
              "      <th></th>\n",
              "      <th></th>\n",
              "      <th></th>\n",
              "      <th></th>\n",
              "      <th></th>\n",
              "      <th></th>\n",
              "      <th></th>\n",
              "      <th></th>\n",
              "      <th></th>\n",
              "      <th></th>\n",
              "      <th></th>\n",
              "    </tr>\n",
              "  </thead>\n",
              "  <tbody>\n",
              "    <tr>\n",
              "      <th>2</th>\n",
              "      <td>713982108</td>\n",
              "      <td>Existing Customer</td>\n",
              "      <td>51</td>\n",
              "      <td>M</td>\n",
              "      <td>3</td>\n",
              "      <td>Graduate</td>\n",
              "      <td>Married</td>\n",
              "      <td>$80K - $120K</td>\n",
              "      <td>Blue</td>\n",
              "      <td>36</td>\n",
              "      <td>4</td>\n",
              "      <td>1</td>\n",
              "      <td>0</td>\n",
              "      <td>3418.0</td>\n",
              "      <td>0</td>\n",
              "      <td>3418.0</td>\n",
              "      <td>2.594</td>\n",
              "      <td>1887</td>\n",
              "      <td>20</td>\n",
              "      <td>2.333</td>\n",
              "      <td>0.000</td>\n",
              "      <td>0.000021</td>\n",
              "      <td>0.99998</td>\n",
              "    </tr>\n",
              "    <tr>\n",
              "      <th>4</th>\n",
              "      <td>709106358</td>\n",
              "      <td>Existing Customer</td>\n",
              "      <td>40</td>\n",
              "      <td>M</td>\n",
              "      <td>3</td>\n",
              "      <td>Uneducated</td>\n",
              "      <td>Married</td>\n",
              "      <td>$60K - $80K</td>\n",
              "      <td>Blue</td>\n",
              "      <td>21</td>\n",
              "      <td>5</td>\n",
              "      <td>1</td>\n",
              "      <td>0</td>\n",
              "      <td>4716.0</td>\n",
              "      <td>0</td>\n",
              "      <td>4716.0</td>\n",
              "      <td>2.175</td>\n",
              "      <td>816</td>\n",
              "      <td>28</td>\n",
              "      <td>2.500</td>\n",
              "      <td>0.000</td>\n",
              "      <td>0.000022</td>\n",
              "      <td>0.99998</td>\n",
              "    </tr>\n",
              "    <tr>\n",
              "      <th>8</th>\n",
              "      <td>710930508</td>\n",
              "      <td>Existing Customer</td>\n",
              "      <td>37</td>\n",
              "      <td>M</td>\n",
              "      <td>3</td>\n",
              "      <td>Uneducated</td>\n",
              "      <td>Single</td>\n",
              "      <td>$60K - $80K</td>\n",
              "      <td>Blue</td>\n",
              "      <td>36</td>\n",
              "      <td>5</td>\n",
              "      <td>2</td>\n",
              "      <td>0</td>\n",
              "      <td>22352.0</td>\n",
              "      <td>2517</td>\n",
              "      <td>19835.0</td>\n",
              "      <td>3.355</td>\n",
              "      <td>1350</td>\n",
              "      <td>24</td>\n",
              "      <td>1.182</td>\n",
              "      <td>0.113</td>\n",
              "      <td>0.000045</td>\n",
              "      <td>0.99996</td>\n",
              "    </tr>\n",
              "    <tr>\n",
              "      <th>12</th>\n",
              "      <td>710599683</td>\n",
              "      <td>Existing Customer</td>\n",
              "      <td>56</td>\n",
              "      <td>M</td>\n",
              "      <td>1</td>\n",
              "      <td>College</td>\n",
              "      <td>Single</td>\n",
              "      <td>$80K - $120K</td>\n",
              "      <td>Blue</td>\n",
              "      <td>36</td>\n",
              "      <td>3</td>\n",
              "      <td>6</td>\n",
              "      <td>0</td>\n",
              "      <td>11751.0</td>\n",
              "      <td>0</td>\n",
              "      <td>11751.0</td>\n",
              "      <td>3.397</td>\n",
              "      <td>1539</td>\n",
              "      <td>17</td>\n",
              "      <td>3.250</td>\n",
              "      <td>0.000</td>\n",
              "      <td>0.000048</td>\n",
              "      <td>0.99995</td>\n",
              "    </tr>\n",
              "    <tr>\n",
              "      <th>20</th>\n",
              "      <td>806165208</td>\n",
              "      <td>Existing Customer</td>\n",
              "      <td>47</td>\n",
              "      <td>M</td>\n",
              "      <td>1</td>\n",
              "      <td>Doctorate</td>\n",
              "      <td>Divorced</td>\n",
              "      <td>$60K - $80K</td>\n",
              "      <td>Blue</td>\n",
              "      <td>42</td>\n",
              "      <td>5</td>\n",
              "      <td>2</td>\n",
              "      <td>0</td>\n",
              "      <td>20979.0</td>\n",
              "      <td>1800</td>\n",
              "      <td>19179.0</td>\n",
              "      <td>0.906</td>\n",
              "      <td>1178</td>\n",
              "      <td>27</td>\n",
              "      <td>0.929</td>\n",
              "      <td>0.086</td>\n",
              "      <td>0.000057</td>\n",
              "      <td>0.99994</td>\n",
              "    </tr>\n",
              "  </tbody>\n",
              "</table>\n",
              "</div>"
            ],
            "text/plain": [
              "    clientnum     attrition_flag  ...  naive_bayes_1 naive_bayes_2\n",
              "id                                ...                             \n",
              "2   713982108  Existing Customer  ...       0.000021       0.99998\n",
              "4   709106358  Existing Customer  ...       0.000022       0.99998\n",
              "8   710930508  Existing Customer  ...       0.000045       0.99996\n",
              "12  710599683  Existing Customer  ...       0.000048       0.99995\n",
              "20  806165208  Existing Customer  ...       0.000057       0.99994\n",
              "\n",
              "[5 rows x 23 columns]"
            ]
          },
          "metadata": {
            "tags": []
          },
          "execution_count": 60
        }
      ]
    },
    {
      "cell_type": "markdown",
      "metadata": {
        "id": "d7wqNAg_j7Z9"
      },
      "source": [
        "# **Conclusión:** \n",
        "Para los datos atípicos de la cantidad de veces que los clientes se han contactado con el banco, se puede ver que las personas que no llamaron al banco son menos propensas a retirar su tarjeta, así mismo como los que tienen mucho contacto con el banco."
      ]
    },
    {
      "cell_type": "markdown",
      "metadata": {
        "id": "7jjo8P4Dlc5o"
      },
      "source": [
        "# **credit_limit**"
      ]
    },
    {
      "cell_type": "code",
      "metadata": {
        "colab": {
          "base_uri": "https://localhost:8080/",
          "height": 100
        },
        "id": "NGQD466lkA9P",
        "outputId": "04a86587-9900-44a3-d201-9732887bd392"
      },
      "source": [
        "meanage = df['credit_limit'].mean() \n",
        "stdage = df['credit_limit'].std() \n",
        "toprange = meanage + 1.96*stdage\n",
        "botrange = meanage - 1.96*stdage\n",
        "copydf12 = df \n",
        "copyCredit = copydf12[copydf12['credit_limit']> toprange]\n",
        "copyCredit = copydf12[copydf12['credit_limit']< botrange]\n",
        "copyCredit.head()\n"
      ],
      "execution_count": null,
      "outputs": [
        {
          "output_type": "execute_result",
          "data": {
            "text/html": [
              "<div>\n",
              "<style scoped>\n",
              "    .dataframe tbody tr th:only-of-type {\n",
              "        vertical-align: middle;\n",
              "    }\n",
              "\n",
              "    .dataframe tbody tr th {\n",
              "        vertical-align: top;\n",
              "    }\n",
              "\n",
              "    .dataframe thead th {\n",
              "        text-align: right;\n",
              "    }\n",
              "</style>\n",
              "<table border=\"1\" class=\"dataframe\">\n",
              "  <thead>\n",
              "    <tr style=\"text-align: right;\">\n",
              "      <th></th>\n",
              "      <th>clientnum</th>\n",
              "      <th>attrition_flag</th>\n",
              "      <th>customer_age</th>\n",
              "      <th>gender</th>\n",
              "      <th>dependent_count</th>\n",
              "      <th>education_level</th>\n",
              "      <th>marital_status</th>\n",
              "      <th>income_category</th>\n",
              "      <th>card_category</th>\n",
              "      <th>months_on_book</th>\n",
              "      <th>total_relationship_count</th>\n",
              "      <th>months_inactive_12_mon</th>\n",
              "      <th>contacts_count_12_mon</th>\n",
              "      <th>credit_limit</th>\n",
              "      <th>total_revolving_bal</th>\n",
              "      <th>avg_open_to_buy</th>\n",
              "      <th>total_amt_chng_q4_q1</th>\n",
              "      <th>total_trans_amt</th>\n",
              "      <th>total_trans_ct</th>\n",
              "      <th>total_ct_chng_q4_q1</th>\n",
              "      <th>avg_utilization_ratio</th>\n",
              "      <th>naive_bayes_1</th>\n",
              "      <th>naive_bayes_2</th>\n",
              "    </tr>\n",
              "    <tr>\n",
              "      <th>id</th>\n",
              "      <th></th>\n",
              "      <th></th>\n",
              "      <th></th>\n",
              "      <th></th>\n",
              "      <th></th>\n",
              "      <th></th>\n",
              "      <th></th>\n",
              "      <th></th>\n",
              "      <th></th>\n",
              "      <th></th>\n",
              "      <th></th>\n",
              "      <th></th>\n",
              "      <th></th>\n",
              "      <th></th>\n",
              "      <th></th>\n",
              "      <th></th>\n",
              "      <th></th>\n",
              "      <th></th>\n",
              "      <th></th>\n",
              "      <th></th>\n",
              "      <th></th>\n",
              "      <th></th>\n",
              "      <th></th>\n",
              "    </tr>\n",
              "  </thead>\n",
              "  <tbody>\n",
              "  </tbody>\n",
              "</table>\n",
              "</div>"
            ],
            "text/plain": [
              "Empty DataFrame\n",
              "Columns: [clientnum, attrition_flag, customer_age, gender, dependent_count, education_level, marital_status, income_category, card_category, months_on_book, total_relationship_count, months_inactive_12_mon, contacts_count_12_mon, credit_limit, total_revolving_bal, avg_open_to_buy, total_amt_chng_q4_q1, total_trans_amt, total_trans_ct, total_ct_chng_q4_q1, avg_utilization_ratio, naive_bayes_1, naive_bayes_2]\n",
              "Index: []"
            ]
          },
          "metadata": {
            "tags": []
          },
          "execution_count": 63
        }
      ]
    },
    {
      "cell_type": "markdown",
      "metadata": {
        "id": "360zQiUdkMyi"
      },
      "source": [
        "# **Conclusión:** \n",
        "Para el caso del cupo límite de crédito se puede observar que primero no hay datos atípicos, es decir, todos los datos están dentro del rango normal de cupo de crédito. Adicional a esto, se identificó que entre menor es el cupo de la tarjeta los clientes son más propensos a retirarse del banco; exceptuando el caso de cuando tienen el cupo máximo de crédito que se evidencia que aumenta la posibilidad de que retiren este producto del banco."
      ]
    },
    {
      "cell_type": "markdown",
      "metadata": {
        "id": "ABM72huWlWIM"
      },
      "source": [
        "# **total_revolving_bal**"
      ]
    },
    {
      "cell_type": "code",
      "metadata": {
        "colab": {
          "base_uri": "https://localhost:8080/",
          "height": 100
        },
        "id": "LjUnDsEGks5o",
        "outputId": "36128331-0145-4d6e-8a6d-a7c42713f059"
      },
      "source": [
        "meanage = df['total_revolving_bal'].mean() \n",
        "stdage = df['total_revolving_bal'].std() \n",
        "toprange = meanage + 1.96*stdage\n",
        "botrange = meanage - 1.96*stdage\n",
        "copydf = df \n",
        "copyBal = copydf[copydf12['total_revolving_bal']> toprange]\n",
        "copyBal = copydf[copydf12['total_revolving_bal']< botrange]\n",
        "copyBal"
      ],
      "execution_count": null,
      "outputs": [
        {
          "output_type": "execute_result",
          "data": {
            "text/html": [
              "<div>\n",
              "<style scoped>\n",
              "    .dataframe tbody tr th:only-of-type {\n",
              "        vertical-align: middle;\n",
              "    }\n",
              "\n",
              "    .dataframe tbody tr th {\n",
              "        vertical-align: top;\n",
              "    }\n",
              "\n",
              "    .dataframe thead th {\n",
              "        text-align: right;\n",
              "    }\n",
              "</style>\n",
              "<table border=\"1\" class=\"dataframe\">\n",
              "  <thead>\n",
              "    <tr style=\"text-align: right;\">\n",
              "      <th></th>\n",
              "      <th>clientnum</th>\n",
              "      <th>attrition_flag</th>\n",
              "      <th>customer_age</th>\n",
              "      <th>gender</th>\n",
              "      <th>dependent_count</th>\n",
              "      <th>education_level</th>\n",
              "      <th>marital_status</th>\n",
              "      <th>income_category</th>\n",
              "      <th>card_category</th>\n",
              "      <th>months_on_book</th>\n",
              "      <th>total_relationship_count</th>\n",
              "      <th>months_inactive_12_mon</th>\n",
              "      <th>contacts_count_12_mon</th>\n",
              "      <th>credit_limit</th>\n",
              "      <th>total_revolving_bal</th>\n",
              "      <th>avg_open_to_buy</th>\n",
              "      <th>total_amt_chng_q4_q1</th>\n",
              "      <th>total_trans_amt</th>\n",
              "      <th>total_trans_ct</th>\n",
              "      <th>total_ct_chng_q4_q1</th>\n",
              "      <th>avg_utilization_ratio</th>\n",
              "      <th>naive_bayes_1</th>\n",
              "      <th>naive_bayes_2</th>\n",
              "    </tr>\n",
              "    <tr>\n",
              "      <th>id</th>\n",
              "      <th></th>\n",
              "      <th></th>\n",
              "      <th></th>\n",
              "      <th></th>\n",
              "      <th></th>\n",
              "      <th></th>\n",
              "      <th></th>\n",
              "      <th></th>\n",
              "      <th></th>\n",
              "      <th></th>\n",
              "      <th></th>\n",
              "      <th></th>\n",
              "      <th></th>\n",
              "      <th></th>\n",
              "      <th></th>\n",
              "      <th></th>\n",
              "      <th></th>\n",
              "      <th></th>\n",
              "      <th></th>\n",
              "      <th></th>\n",
              "      <th></th>\n",
              "      <th></th>\n",
              "      <th></th>\n",
              "    </tr>\n",
              "  </thead>\n",
              "  <tbody>\n",
              "  </tbody>\n",
              "</table>\n",
              "</div>"
            ],
            "text/plain": [
              "Empty DataFrame\n",
              "Columns: [clientnum, attrition_flag, customer_age, gender, dependent_count, education_level, marital_status, income_category, card_category, months_on_book, total_relationship_count, months_inactive_12_mon, contacts_count_12_mon, credit_limit, total_revolving_bal, avg_open_to_buy, total_amt_chng_q4_q1, total_trans_amt, total_trans_ct, total_ct_chng_q4_q1, avg_utilization_ratio, naive_bayes_1, naive_bayes_2]\n",
              "Index: []"
            ]
          },
          "metadata": {
            "tags": []
          },
          "execution_count": 64
        }
      ]
    },
    {
      "cell_type": "code",
      "metadata": {
        "colab": {
          "base_uri": "https://localhost:8080/",
          "height": 100
        },
        "id": "FzjFvpgDkxlb",
        "outputId": "0cb88bd8-1fdd-4324-b59f-017c58b99e6c"
      },
      "source": [
        "q1 = df['total_revolving_bal'].quantile(.25)\n",
        "q3 = df['total_revolving_bal'].quantile(.75)\n",
        "iqr = q3 - q1\n",
        "toprange_q = q3 + iqr*1.5\n",
        "botrange_q = q1 - iqr*1.5\n",
        "copydf_q = df\n",
        "copydf_q =copydf_q[copydf_q['total_revolving_bal']>toprange_q]\n",
        "copydf_q = copydf_q[copydf_q['total_revolving_bal']<botrange_q]\n",
        "copydf_q"
      ],
      "execution_count": null,
      "outputs": [
        {
          "output_type": "execute_result",
          "data": {
            "text/html": [
              "<div>\n",
              "<style scoped>\n",
              "    .dataframe tbody tr th:only-of-type {\n",
              "        vertical-align: middle;\n",
              "    }\n",
              "\n",
              "    .dataframe tbody tr th {\n",
              "        vertical-align: top;\n",
              "    }\n",
              "\n",
              "    .dataframe thead th {\n",
              "        text-align: right;\n",
              "    }\n",
              "</style>\n",
              "<table border=\"1\" class=\"dataframe\">\n",
              "  <thead>\n",
              "    <tr style=\"text-align: right;\">\n",
              "      <th></th>\n",
              "      <th>clientnum</th>\n",
              "      <th>attrition_flag</th>\n",
              "      <th>customer_age</th>\n",
              "      <th>gender</th>\n",
              "      <th>dependent_count</th>\n",
              "      <th>education_level</th>\n",
              "      <th>marital_status</th>\n",
              "      <th>income_category</th>\n",
              "      <th>card_category</th>\n",
              "      <th>months_on_book</th>\n",
              "      <th>total_relationship_count</th>\n",
              "      <th>months_inactive_12_mon</th>\n",
              "      <th>contacts_count_12_mon</th>\n",
              "      <th>credit_limit</th>\n",
              "      <th>total_revolving_bal</th>\n",
              "      <th>avg_open_to_buy</th>\n",
              "      <th>total_amt_chng_q4_q1</th>\n",
              "      <th>total_trans_amt</th>\n",
              "      <th>total_trans_ct</th>\n",
              "      <th>total_ct_chng_q4_q1</th>\n",
              "      <th>avg_utilization_ratio</th>\n",
              "      <th>naive_bayes_1</th>\n",
              "      <th>naive_bayes_2</th>\n",
              "    </tr>\n",
              "    <tr>\n",
              "      <th>id</th>\n",
              "      <th></th>\n",
              "      <th></th>\n",
              "      <th></th>\n",
              "      <th></th>\n",
              "      <th></th>\n",
              "      <th></th>\n",
              "      <th></th>\n",
              "      <th></th>\n",
              "      <th></th>\n",
              "      <th></th>\n",
              "      <th></th>\n",
              "      <th></th>\n",
              "      <th></th>\n",
              "      <th></th>\n",
              "      <th></th>\n",
              "      <th></th>\n",
              "      <th></th>\n",
              "      <th></th>\n",
              "      <th></th>\n",
              "      <th></th>\n",
              "      <th></th>\n",
              "      <th></th>\n",
              "      <th></th>\n",
              "    </tr>\n",
              "  </thead>\n",
              "  <tbody>\n",
              "  </tbody>\n",
              "</table>\n",
              "</div>"
            ],
            "text/plain": [
              "Empty DataFrame\n",
              "Columns: [clientnum, attrition_flag, customer_age, gender, dependent_count, education_level, marital_status, income_category, card_category, months_on_book, total_relationship_count, months_inactive_12_mon, contacts_count_12_mon, credit_limit, total_revolving_bal, avg_open_to_buy, total_amt_chng_q4_q1, total_trans_amt, total_trans_ct, total_ct_chng_q4_q1, avg_utilization_ratio, naive_bayes_1, naive_bayes_2]\n",
              "Index: []"
            ]
          },
          "metadata": {
            "tags": []
          },
          "execution_count": 65
        }
      ]
    },
    {
      "cell_type": "markdown",
      "metadata": {
        "id": "S_8LlBH6k1u1"
      },
      "source": [
        "# **Conclusión:**\n",
        "Para la variable saldo pendiente se encontró que no hay datos atípicos siendo todos los datos de los clientes significativos en este caso. \n",
        "Se analizó de dos maneras diferentes, siendo la primera hallando el 95% de confiabilidad y la segunda por el método de rangos intercuartilícos, y en ninguna se obtuvó residuales.\n",
        "\n",
        "Se evidencia según la gráfica realizada que los clientes que no tienen saldos pednientes son aquellos que se retiran más fácilmente del banco, después de esto se comporta normalmente la cantidad de clientes que dieron de baja la tarjeta respecto al saldo pendiente, exceptuando cuando la deuda se acumula más allá de los 2300 que se vuelve a incrementar la cantidad de clientes desertando del producto."
      ]
    },
    {
      "cell_type": "markdown",
      "metadata": {
        "id": "G7QhPPBDlNrE"
      },
      "source": [
        "# **`avg_open_to_buy`**"
      ]
    },
    {
      "cell_type": "code",
      "metadata": {
        "colab": {
          "base_uri": "https://localhost:8080/",
          "height": 100
        },
        "id": "yiM219Pzk4oA",
        "outputId": "8b7fb130-d810-4473-c21d-74ddcd6f5fae"
      },
      "source": [
        "meanage = df['avg_open_to_buy'].mean() \n",
        "stdage = df['avg_open_to_buy'].std() \n",
        "toprange = meanage + 1.96*stdage\n",
        "botrange = meanage - 1.96*stdage\n",
        "copydf1 = df \n",
        "copyOpen = copydf1[copydf1['avg_open_to_buy']> toprange]\n",
        "copyOpen = copydf1[copydf1['avg_open_to_buy']< botrange]\n",
        "copyOpen.head()"
      ],
      "execution_count": null,
      "outputs": [
        {
          "output_type": "execute_result",
          "data": {
            "text/html": [
              "<div>\n",
              "<style scoped>\n",
              "    .dataframe tbody tr th:only-of-type {\n",
              "        vertical-align: middle;\n",
              "    }\n",
              "\n",
              "    .dataframe tbody tr th {\n",
              "        vertical-align: top;\n",
              "    }\n",
              "\n",
              "    .dataframe thead th {\n",
              "        text-align: right;\n",
              "    }\n",
              "</style>\n",
              "<table border=\"1\" class=\"dataframe\">\n",
              "  <thead>\n",
              "    <tr style=\"text-align: right;\">\n",
              "      <th></th>\n",
              "      <th>clientnum</th>\n",
              "      <th>attrition_flag</th>\n",
              "      <th>customer_age</th>\n",
              "      <th>gender</th>\n",
              "      <th>dependent_count</th>\n",
              "      <th>education_level</th>\n",
              "      <th>marital_status</th>\n",
              "      <th>income_category</th>\n",
              "      <th>card_category</th>\n",
              "      <th>months_on_book</th>\n",
              "      <th>total_relationship_count</th>\n",
              "      <th>months_inactive_12_mon</th>\n",
              "      <th>contacts_count_12_mon</th>\n",
              "      <th>credit_limit</th>\n",
              "      <th>total_revolving_bal</th>\n",
              "      <th>avg_open_to_buy</th>\n",
              "      <th>total_amt_chng_q4_q1</th>\n",
              "      <th>total_trans_amt</th>\n",
              "      <th>total_trans_ct</th>\n",
              "      <th>total_ct_chng_q4_q1</th>\n",
              "      <th>avg_utilization_ratio</th>\n",
              "      <th>naive_bayes_1</th>\n",
              "      <th>naive_bayes_2</th>\n",
              "    </tr>\n",
              "    <tr>\n",
              "      <th>id</th>\n",
              "      <th></th>\n",
              "      <th></th>\n",
              "      <th></th>\n",
              "      <th></th>\n",
              "      <th></th>\n",
              "      <th></th>\n",
              "      <th></th>\n",
              "      <th></th>\n",
              "      <th></th>\n",
              "      <th></th>\n",
              "      <th></th>\n",
              "      <th></th>\n",
              "      <th></th>\n",
              "      <th></th>\n",
              "      <th></th>\n",
              "      <th></th>\n",
              "      <th></th>\n",
              "      <th></th>\n",
              "      <th></th>\n",
              "      <th></th>\n",
              "      <th></th>\n",
              "      <th></th>\n",
              "      <th></th>\n",
              "    </tr>\n",
              "  </thead>\n",
              "  <tbody>\n",
              "  </tbody>\n",
              "</table>\n",
              "</div>"
            ],
            "text/plain": [
              "Empty DataFrame\n",
              "Columns: [clientnum, attrition_flag, customer_age, gender, dependent_count, education_level, marital_status, income_category, card_category, months_on_book, total_relationship_count, months_inactive_12_mon, contacts_count_12_mon, credit_limit, total_revolving_bal, avg_open_to_buy, total_amt_chng_q4_q1, total_trans_amt, total_trans_ct, total_ct_chng_q4_q1, avg_utilization_ratio, naive_bayes_1, naive_bayes_2]\n",
              "Index: []"
            ]
          },
          "metadata": {
            "tags": []
          },
          "execution_count": 67
        }
      ]
    },
    {
      "cell_type": "code",
      "metadata": {
        "colab": {
          "base_uri": "https://localhost:8080/",
          "height": 100
        },
        "id": "StObdToYk_Nz",
        "outputId": "fed8463c-a0aa-461b-a7a8-80e8a9d5639e"
      },
      "source": [
        "q1 = df['avg_open_to_buy'].quantile(.25)\n",
        "q3 = df['avg_open_to_buy'].quantile(.75)\n",
        "iqr = q3 - q1\n",
        "toprange_q = q3 + iqr*1.5\n",
        "botrange_q = q1 - iqr*1.5\n",
        "copydf_q = df\n",
        "copydf_q1 =copydf_q[copydf_q['avg_open_to_buy']>toprange_q]\n",
        "copydf_q1 = copydf_q[copydf_q['avg_open_to_buy']<botrange_q]\n",
        "copydf_q1.head()"
      ],
      "execution_count": null,
      "outputs": [
        {
          "output_type": "execute_result",
          "data": {
            "text/html": [
              "<div>\n",
              "<style scoped>\n",
              "    .dataframe tbody tr th:only-of-type {\n",
              "        vertical-align: middle;\n",
              "    }\n",
              "\n",
              "    .dataframe tbody tr th {\n",
              "        vertical-align: top;\n",
              "    }\n",
              "\n",
              "    .dataframe thead th {\n",
              "        text-align: right;\n",
              "    }\n",
              "</style>\n",
              "<table border=\"1\" class=\"dataframe\">\n",
              "  <thead>\n",
              "    <tr style=\"text-align: right;\">\n",
              "      <th></th>\n",
              "      <th>clientnum</th>\n",
              "      <th>attrition_flag</th>\n",
              "      <th>customer_age</th>\n",
              "      <th>gender</th>\n",
              "      <th>dependent_count</th>\n",
              "      <th>education_level</th>\n",
              "      <th>marital_status</th>\n",
              "      <th>income_category</th>\n",
              "      <th>card_category</th>\n",
              "      <th>months_on_book</th>\n",
              "      <th>total_relationship_count</th>\n",
              "      <th>months_inactive_12_mon</th>\n",
              "      <th>contacts_count_12_mon</th>\n",
              "      <th>credit_limit</th>\n",
              "      <th>total_revolving_bal</th>\n",
              "      <th>avg_open_to_buy</th>\n",
              "      <th>total_amt_chng_q4_q1</th>\n",
              "      <th>total_trans_amt</th>\n",
              "      <th>total_trans_ct</th>\n",
              "      <th>total_ct_chng_q4_q1</th>\n",
              "      <th>avg_utilization_ratio</th>\n",
              "      <th>naive_bayes_1</th>\n",
              "      <th>naive_bayes_2</th>\n",
              "    </tr>\n",
              "    <tr>\n",
              "      <th>id</th>\n",
              "      <th></th>\n",
              "      <th></th>\n",
              "      <th></th>\n",
              "      <th></th>\n",
              "      <th></th>\n",
              "      <th></th>\n",
              "      <th></th>\n",
              "      <th></th>\n",
              "      <th></th>\n",
              "      <th></th>\n",
              "      <th></th>\n",
              "      <th></th>\n",
              "      <th></th>\n",
              "      <th></th>\n",
              "      <th></th>\n",
              "      <th></th>\n",
              "      <th></th>\n",
              "      <th></th>\n",
              "      <th></th>\n",
              "      <th></th>\n",
              "      <th></th>\n",
              "      <th></th>\n",
              "      <th></th>\n",
              "    </tr>\n",
              "  </thead>\n",
              "  <tbody>\n",
              "  </tbody>\n",
              "</table>\n",
              "</div>"
            ],
            "text/plain": [
              "Empty DataFrame\n",
              "Columns: [clientnum, attrition_flag, customer_age, gender, dependent_count, education_level, marital_status, income_category, card_category, months_on_book, total_relationship_count, months_inactive_12_mon, contacts_count_12_mon, credit_limit, total_revolving_bal, avg_open_to_buy, total_amt_chng_q4_q1, total_trans_amt, total_trans_ct, total_ct_chng_q4_q1, avg_utilization_ratio, naive_bayes_1, naive_bayes_2]\n",
              "Index: []"
            ]
          },
          "metadata": {
            "tags": []
          },
          "execution_count": 69
        }
      ]
    },
    {
      "cell_type": "code",
      "metadata": {
        "colab": {
          "base_uri": "https://localhost:8080/",
          "height": 235
        },
        "id": "qG9jIqgxlFfV",
        "outputId": "ee60e0d0-dcbf-4e16-8f42-90b476af0ae4"
      },
      "source": [
        "copyOpen2 = copydf1.drop(copydf1[copydf1['avg_open_to_buy']>32000].index)\n",
        "plt.figure(figsize=(30,9))\n",
        "sns.histplot(x= copyOpen2['avg_open_to_buy'], data=copyOpen2)"
      ],
      "execution_count": null,
      "outputs": [
        {
          "output_type": "execute_result",
          "data": {
            "text/plain": [
              "<matplotlib.axes._subplots.AxesSubplot at 0x7fbe69726910>"
            ]
          },
          "metadata": {
            "tags": []
          },
          "execution_count": 70
        },
        {
          "output_type": "display_data",
          "data": {
            "image/png": "[encoded data removed]",
            "text/plain": [
              "<Figure size 2160x648 with 1 Axes>"
            ]
          },
          "metadata": {
            "tags": [],
            "needs_background": "light"
          }
        }
      ]
    },
    {
      "cell_type": "markdown",
      "metadata": {
        "id": "8DkjclISlJkh"
      },
      "source": [
        "# **Conclusión:** \n",
        "La variable cupo disponible inicialmente se analizó de dos maneras diferentes, siendo la primera hallando el 95% de confiabilidad y la segunda por el método de rangos intercuartilícos, y en ninguna se obtuvó residuales. Después fueron analizados gráficamnete y se tomó la desición que se queríana nalizar más a fondo aquellos clientes que se retiraban entre menor era el cupo, es decir, se eliminaron los datos de aquellos clientes que tenían cupo disponible mayor a 32000 dólares.\n"
      ]
    },
    {
      "cell_type": "markdown",
      "metadata": {
        "id": "uGZ87kHeEsmr"
      },
      "source": [
        "**total_ct_chng_q4_q1**"
      ]
    },
    {
      "cell_type": "code",
      "metadata": {
        "colab": {
          "base_uri": "https://localhost:8080/"
        },
        "id": "0AhzxjjRFl-8",
        "outputId": "35960ce8-b951-4feb-f2d2-0a1e06d25589"
      },
      "source": [
        "meantct = df['total_ct_chng_q4_q1'].mean() \n",
        "stdtct = df['total_ct_chng_q4_q1'].std() \n",
        "toprange = meantct + 1.96*stdtct\n",
        "botrange = meantct - 1.96*stdtct\n",
        "copydftct = df \n",
        "copydftct = copydftct.drop(copydftct[copydftct['total_ct_chng_q4_q1']> toprange].index) \n",
        "copydtct = copydftct.drop(copydftct[copydftct['total_ct_chng_q4_q1']< botrange].index)\n",
        "copydftct.shape "
      ],
      "execution_count": null,
      "outputs": [
        {
          "output_type": "execute_result",
          "data": {
            "text/plain": [
              "(9839, 23)"
            ]
          },
          "metadata": {
            "tags": []
          },
          "execution_count": 52
        }
      ]
    },
    {
      "cell_type": "code",
      "metadata": {
        "colab": {
          "base_uri": "https://localhost:8080/",
          "height": 304
        },
        "id": "CpOKQDCaKQ8M",
        "outputId": "5ff8e427-302b-438a-8e2e-18a769d2f35b"
      },
      "source": [
        "sns.histplot(x = copydftct['total_ct_chng_q4_q1'], data= copydfMb)"
      ],
      "execution_count": null,
      "outputs": [
        {
          "output_type": "execute_result",
          "data": {
            "text/plain": [
              "<matplotlib.axes._subplots.AxesSubplot at 0x7fbe6ae23e50>"
            ]
          },
          "metadata": {
            "tags": []
          },
          "execution_count": 53
        },
        {
          "output_type": "display_data",
          "data": {
            "image/png": "[encoded data removed]",
            "text/plain": [
              "<Figure size 432x288 with 1 Axes>"
            ]
          },
          "metadata": {
            "tags": [],
            "needs_background": "light"
          }
        }
      ]
    },
    {
      "cell_type": "markdown",
      "metadata": {
        "id": "TbSMD8WvVmpt"
      },
      "source": [
        "**Nota:** Los datos atípicos evidencian aquellos datos extremos en el cambio en el recuento de transacciones entre el trimestre (Q4) y el trimestre (Q1).\n",
        "\n",
        "Se eliminan 288 datos, principalmente los mayores a 1.2 debido a la pequeña cantidad de clientes que presentaban este cambio"
      ]
    },
    {
      "cell_type": "markdown",
      "metadata": {
        "id": "1FC0vMlMNflp"
      },
      "source": [
        "Estadísticos de **total_ct_chng_q4_q1** al quitar datos atípicos:"
      ]
    },
    {
      "cell_type": "code",
      "metadata": {
        "colab": {
          "base_uri": "https://localhost:8080/"
        },
        "id": "bUwrSJvxNm0z",
        "outputId": "1a32fd0a-5525-43e8-e71d-18995aceeffa"
      },
      "source": [
        "copydf['total_ct_chng_q4_q1'].describe()"
      ],
      "execution_count": null,
      "outputs": [
        {
          "output_type": "execute_result",
          "data": {
            "text/plain": [
              "count    10127.000000\n",
              "mean         0.712222\n",
              "std          0.238086\n",
              "min          0.000000\n",
              "25%          0.582000\n",
              "50%          0.702000\n",
              "75%          0.818000\n",
              "max          3.714000\n",
              "Name: total_ct_chng_q4_q1, dtype: float64"
            ]
          },
          "metadata": {
            "tags": []
          },
          "execution_count": 54
        }
      ]
    },
    {
      "cell_type": "markdown",
      "metadata": {
        "id": "rljNCuuBMLoU"
      },
      "source": [
        "**avg_utilization_ratio**"
      ]
    },
    {
      "cell_type": "code",
      "metadata": {
        "colab": {
          "base_uri": "https://localhost:8080/"
        },
        "id": "Xz572z3PKaYh",
        "outputId": "72332108-2182-4530-b713-7ab9a5697417"
      },
      "source": [
        "q1 = df['avg_utilization_ratio'].quantile(.25)\n",
        "q3 = df['avg_utilization_ratio'].quantile(.75)\n",
        "iqr = q3 - q1\n",
        "toprange_q = q3 + iqr*1.5\n",
        "botrange_q = q1 - iqr*1.5\n",
        "copyavg_q = df\n",
        "copyavg_q = copyavg_q.drop(copyavg_q[copyavg_q['avg_utilization_ratio']>toprange_q].index)\n",
        "copyavg_q = copyavg_q.drop(copyavg_q[copyavg_q['avg_utilization_ratio']<botrange_q].index)\n",
        "copyavg_q.shape"
      ],
      "execution_count": null,
      "outputs": [
        {
          "output_type": "execute_result",
          "data": {
            "text/plain": [
              "(10127, 23)"
            ]
          },
          "metadata": {
            "tags": []
          },
          "execution_count": 55
        }
      ]
    },
    {
      "cell_type": "code",
      "metadata": {
        "colab": {
          "base_uri": "https://localhost:8080/",
          "height": 304
        },
        "id": "-NQWVYnULVc5",
        "outputId": "3a3fc4a5-5916-42d8-8406-7d374cb04269"
      },
      "source": [
        "sns.histplot(x = copyavg_q['avg_utilization_ratio'], data= copyavg_q)"
      ],
      "execution_count": null,
      "outputs": [
        {
          "output_type": "execute_result",
          "data": {
            "text/plain": [
              "<matplotlib.axes._subplots.AxesSubplot at 0x7fbe69bfc550>"
            ]
          },
          "metadata": {
            "tags": []
          },
          "execution_count": 56
        },
        {
          "output_type": "display_data",
          "data": {
            "image/png": "[encoded data removed]",
            "text/plain": [
              "<Figure size 432x288 with 1 Axes>"
            ]
          },
          "metadata": {
            "tags": [],
            "needs_background": "light"
          }
        }
      ]
    },
    {
      "cell_type": "markdown",
      "metadata": {
        "id": "561uBMuNWb86"
      },
      "source": [
        "**Nota:** Los datos atípicos evidencian aquellos valores del índice de utilización promedio de la tarjeta presentes en un mínimo número de clientes.\n",
        "\n",
        "Se evidencia que no se presentan datos atípicos en esta variable a pesar de la variabilidad en el número de clientes en cada índice, lo cual puede atribuirse al método utilizado (rango intercuartilico dado que el comportamiento de esta variable no es de una distribución normal)"
      ]
    }
  ]
}